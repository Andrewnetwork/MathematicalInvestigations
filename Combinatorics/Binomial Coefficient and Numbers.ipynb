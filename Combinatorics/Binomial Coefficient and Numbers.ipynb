{
 "cells": [
  {
   "cell_type": "markdown",
   "metadata": {},
   "source": [
    "# Binomial Coefficient and Numbers\n",
    "## Andrew Ribeiro \n",
    "## June 2019\n",
    "In this notebook I demonstrate the relationship between the binomial coefficient and numbers. "
   ]
  },
  {
   "cell_type": "code",
   "execution_count": 25,
   "metadata": {},
   "outputs": [],
   "source": [
    "import math\n",
    "import numpy as np\n",
    "from functools import reduce"
   ]
  },
  {
   "cell_type": "markdown",
   "metadata": {},
   "source": [
    "The binomal coefficient is defined as: \n",
    "$ \\large \\binom{n}{k} = \\frac{n!}{k!(n-k)!}$\n",
    "\n",
    "As a python function:"
   ]
  },
  {
   "cell_type": "code",
   "execution_count": 5,
   "metadata": {},
   "outputs": [],
   "source": [
    "def binomialCoefficient(n,k):\n",
    "    return math.factorial(n)/(math.factorial(k)*math.factorial(n-k))"
   ]
  },
  {
   "cell_type": "markdown",
   "metadata": {},
   "source": [
    "For example: \n",
    "$ \\large \\binom{5}{2} = \\frac{5!}{2!3!} = \\frac{5\\cdot4\\cdot3\\cdot2\\cdot1}{(2\\cdot1)\\cdot(3\\cdot2\\cdot1)} =  \n",
    "\\frac{5\\cdot4\\cdot3\\cdot2\\cdot1}{4\\cdot3} = 5\\cdot2\\cdot1 = 10$"
   ]
  },
  {
   "cell_type": "code",
   "execution_count": 6,
   "metadata": {},
   "outputs": [
    {
     "data": {
      "text/plain": [
       "10.0"
      ]
     },
     "execution_count": 6,
     "metadata": {},
     "output_type": "execute_result"
    }
   ],
   "source": [
    "binomialCoefficient(5,2)"
   ]
  },
  {
   "cell_type": "markdown",
   "metadata": {},
   "source": [
    "We now define a function which allows us to count from $0$ to $\\text{base}^\\text{digitLength} - 1$ in the given base:"
   ]
  },
  {
   "cell_type": "code",
   "execution_count": 52,
   "metadata": {},
   "outputs": [],
   "source": [
    "def countInBase(digitLength,base):\n",
    "    outLs = []\n",
    "    for i in range(base**digitLength):\n",
    "        outLs.append(np.base_repr(i,base).zfill(digitLength))\n",
    "    return np.array(outLs)\n"
   ]
  },
  {
   "cell_type": "markdown",
   "metadata": {},
   "source": [
    "For example, let's use this to count from 0 to 7 in base 2:"
   ]
  },
  {
   "cell_type": "code",
   "execution_count": 89,
   "metadata": {},
   "outputs": [
    {
     "name": "stdout",
     "output_type": "stream",
     "text": [
      "000\n",
      "001\n",
      "010\n",
      "011\n",
      "100\n",
      "101\n",
      "110\n",
      "111\n"
     ]
    }
   ],
   "source": [
    "zeroToSevenB2 = countInBase(3,2)\n",
    "for i in zeroToSevenB2:\n",
    "    print(i)"
   ]
  },
  {
   "cell_type": "markdown",
   "metadata": {},
   "source": [
    "Now let's define a function which can be applied to a numpy array of numbers encoded as strings and return a sum of the digits in each string:"
   ]
  },
  {
   "cell_type": "code",
   "execution_count": 90,
   "metadata": {},
   "outputs": [],
   "source": [
    "sumStrDigits = np.vectorize(lambda x : reduce(lambda a,b: int(a)+int(b),x))"
   ]
  },
  {
   "cell_type": "markdown",
   "metadata": {},
   "source": [
    "Let's apply this function to the array of binary numbers we just produced:"
   ]
  },
  {
   "cell_type": "code",
   "execution_count": 92,
   "metadata": {},
   "outputs": [
    {
     "data": {
      "text/plain": [
       "array([0, 1, 1, 2, 1, 2, 2, 3])"
      ]
     },
     "execution_count": 92,
     "metadata": {},
     "output_type": "execute_result"
    }
   ],
   "source": [
    "sumStrDigits(zeroToSevenB2)"
   ]
  },
  {
   "cell_type": "markdown",
   "metadata": {},
   "source": [
    "We may now count how many numbers in our array have thier digits sum to a particular number; for example, let's see how many numbers in our array have two ones, i.e., sum to $2$:"
   ]
  },
  {
   "cell_type": "code",
   "execution_count": 93,
   "metadata": {},
   "outputs": [
    {
     "data": {
      "text/plain": [
       "3"
      ]
     },
     "execution_count": 93,
     "metadata": {},
     "output_type": "execute_result"
    }
   ],
   "source": [
    "sum(sumStrDigits(zeroToSevenB2) == 2)"
   ]
  },
  {
   "cell_type": "markdown",
   "metadata": {},
   "source": [
    "Instead of just counting, we could use this as a boolean mask to show which numbers satisfy this condition: "
   ]
  },
  {
   "cell_type": "code",
   "execution_count": 97,
   "metadata": {},
   "outputs": [
    {
     "name": "stdout",
     "output_type": "stream",
     "text": [
      "011\n",
      "101\n",
      "110\n"
     ]
    }
   ],
   "source": [
    "for i in zeroToSevenB2[sumStrDigits(zeroToSevenB2) == 2]:\n",
    "    print(i)"
   ]
  },
  {
   "cell_type": "markdown",
   "metadata": {},
   "source": [
    "The following function allows us to check if the binomial coefficient corresponds to the number of ones in binary numbers from $0$ to $2^n -1$. "
   ]
  },
  {
   "cell_type": "code",
   "execution_count": 80,
   "metadata": {},
   "outputs": [],
   "source": [
    "def checkEquiv(n):\n",
    "    for i in range(n+1):\n",
    "        print(\"{0} choose {1}: {2}\".format(n,i,binomialCoefficient(n,i) == sum(sumStrDigits(countInBase(n,2)) == i)))"
   ]
  },
  {
   "cell_type": "markdown",
   "metadata": {},
   "source": [
    "Let's see if this relation holds true for all binomial valid binomial coeficients where $n=13$:"
   ]
  },
  {
   "cell_type": "code",
   "execution_count": 98,
   "metadata": {},
   "outputs": [
    {
     "name": "stdout",
     "output_type": "stream",
     "text": [
      "13 choose 0: True\n",
      "13 choose 1: True\n",
      "13 choose 2: True\n",
      "13 choose 3: True\n",
      "13 choose 4: True\n",
      "13 choose 5: True\n",
      "13 choose 6: True\n",
      "13 choose 7: True\n",
      "13 choose 8: True\n",
      "13 choose 9: True\n",
      "13 choose 10: True\n",
      "13 choose 11: True\n",
      "13 choose 12: True\n",
      "13 choose 13: True\n"
     ]
    }
   ],
   "source": [
    "checkEquiv(13)"
   ]
  },
  {
   "cell_type": "markdown",
   "metadata": {},
   "source": [
    "It does indeed. In fact, this relationship between combinatorics and numbers extends far deeper than I have gone into here. I may continue this notebook at another time. "
   ]
  }
 ],
 "metadata": {
  "kernelspec": {
   "display_name": "Python 3",
   "language": "python",
   "name": "python3"
  },
  "language_info": {
   "codemirror_mode": {
    "name": "ipython",
    "version": 3
   },
   "file_extension": ".py",
   "mimetype": "text/x-python",
   "name": "python",
   "nbconvert_exporter": "python",
   "pygments_lexer": "ipython3",
   "version": "3.6.4"
  }
 },
 "nbformat": 4,
 "nbformat_minor": 2
}
