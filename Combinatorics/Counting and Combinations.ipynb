{
 "cells": [
  {
   "cell_type": "code",
   "execution_count": 290,
   "metadata": {},
   "outputs": [],
   "source": [
    "from ipywidgets import interact\n",
    "import ipywidgets as widgets\n",
    "import matplotlib.pyplot as plt\n",
    "import numpy as np\n",
    "import math\n"
   ]
  },
  {
   "cell_type": "code",
   "execution_count": 306,
   "metadata": {},
   "outputs": [
    {
     "data": {
      "text/plain": [
       "499"
      ]
     },
     "execution_count": 306,
     "metadata": {},
     "output_type": "execute_result"
    }
   ],
   "source": [
    "12*39+31"
   ]
  },
  {
   "cell_type": "markdown",
   "metadata": {},
   "source": [
    "$$\n",
    "\\import{mathtools}\n",
    "$$"
   ]
  },
  {
   "cell_type": "markdown",
   "metadata": {},
   "source": [
    "$$\\large{\\begin{align}\n",
    "a_{n-1}b^{n-1} + a_{n-2}b^{n-2} \\ldots a_{1}b^{1} + a_{0}b^{0} =  \\\\\n",
    "a_{n-1}b_{n-1} + a_{n-2}b_{n-2} \\ldots a_{1}b_{1} + a_{0}b_{0} = \\sum_i^{n-1}{a_i}{b_i} = \\\\\n",
    "a\\cdot\\dot{a}^\\intercal\n",
    "\\end{align}}\n",
    "$$"
   ]
  },
  {
   "cell_type": "markdown",
   "metadata": {
    "collapsed": true
   },
   "source": [
    "$$\n",
    "\\large\n",
    "\\lceil{\\log_{4}(23)}\\rceil = 3\n",
    "$$\n",
    "\n"
   ]
  },
  {
   "cell_type": "markdown",
   "metadata": {},
   "source": [
    "Where a >= 1 and arg min is an non-negative integer. \n",
    "\n",
    "$$\\large{\\begin{align}\n",
    "\\underset{a \\ b \\ c}{\\operatorname{arg \\ min}}\\ 23-4^2a-4^1b-4^0c\\\\\n",
    "\\underset{a}{\\operatorname{arg \\ min}}\\ 23-4^2a = a \\\\\n",
    "\\underset{b}{\\operatorname{arg \\ min}}\\ 23-4^2a-4^1b = b \\\\\n",
    "\\underset{c}{\\operatorname{arg \\ min}}\\ 23-4^2b-4^1b-4^0c = c \\\\\n",
    "\\end{align}}\n",
    "$$"
   ]
  },
  {
   "cell_type": "code",
   "execution_count": 309,
   "metadata": {},
   "outputs": [
    {
     "data": {
      "text/plain": [
       "array([1, 0])"
      ]
     },
     "execution_count": 309,
     "metadata": {},
     "output_type": "execute_result"
    }
   ],
   "source": [
    "def argmin_s(x,base,power) -> \"[min,arg_min]\": \n",
    "    \n",
    "    minVal,lastMinVal = 1,1\n",
    "    fundamental       = base**power\n",
    "    \n",
    "    for i in range(0,base):\n",
    "        minVal = x - fundamental * i\n",
    "    \n",
    "        if(minVal < 0):\n",
    "            return [lastMinVal,i-1]\n",
    "        if(minVal == 0):\n",
    "            return [minVal,i]\n",
    "        \n",
    "        lastMinVal = minVal\n",
    "        \n",
    "    return [minVal,i]\n",
    "\n",
    "\n",
    "def b10bn(b10Num,base)->\"ndarry\":\n",
    "    if(base == 1):\n",
    "        return np.ones(b10Num)\n",
    "    \n",
    "    logNum = math.log(b10Num,base)\n",
    "    num    = []\n",
    "    \n",
    "    if logNum == 1:\n",
    "        nDigits=2\n",
    "    else:\n",
    "        nDigits = math.ceil(logNum)\n",
    "        \n",
    "    for i in range(nDigits-1,0,-1):\n",
    "        b10Num,idx = argmin_s(b10Num,base,i)\n",
    "        num.append(idx)\n",
    "        \n",
    "    num.append(b10Num)\n",
    "    \n",
    "    return np.array(num)\n",
    "\n",
    "def powerVect(base,n):\n",
    "    num = [1]\n",
    "    \n",
    "    if n == 1:\n",
    "        return np.array(num)\n",
    "    else:   \n",
    "        r = 1\n",
    "        for i in range(n):\n",
    "            r = base*r\n",
    "            num = [r] + num\n",
    "            \n",
    "        return np.matrix(num)\n",
    "    \n",
    "def vectToB10(vect,base):\n",
    "    rVect = powerVect(base,vect.shape[0]-1)\n",
    "    return vect*rVect.T\n",
    "    \n",
    "    \n",
    "def bn2bn(v1,b1,v2,b2):\n",
    "    r1 = vectToB10(v1,b1)\n",
    "    pass\n",
    "\n",
    "#a = 92340940329402394\n",
    "#b = b10bn(a,20)\n",
    "#print(vectToB10(b,20))\n",
    "\n",
    "z = b10bn(10,10)\n",
    "z"
   ]
  },
  {
   "cell_type": "code",
   "execution_count": 273,
   "metadata": {},
   "outputs": [
    {
     "data": {
      "text/plain": [
       "4.61704701647012e+16"
      ]
     },
     "execution_count": 273,
     "metadata": {},
     "output_type": "execute_result"
    }
   ],
   "source": [
    "92340940329402394/2"
   ]
  },
  {
   "cell_type": "code",
   "execution_count": 307,
   "metadata": {},
   "outputs": [
    {
     "data": {
      "text/plain": [
       "matrix([[29]])"
      ]
     },
     "execution_count": 307,
     "metadata": {},
     "output_type": "execute_result"
    }
   ],
   "source": [
    "a = np.matrix([2,3,4])\n",
    "b = np.matrix([2])\n",
    "a*a.T"
   ]
  },
  {
   "cell_type": "code",
   "execution_count": null,
   "metadata": {
    "collapsed": true
   },
   "outputs": [],
   "source": []
  }
 ],
 "metadata": {
  "kernelspec": {
   "display_name": "Python 3",
   "language": "python",
   "name": "python3"
  },
  "language_info": {
   "codemirror_mode": {
    "name": "ipython",
    "version": 3
   },
   "file_extension": ".py",
   "mimetype": "text/x-python",
   "name": "python",
   "nbconvert_exporter": "python",
   "pygments_lexer": "ipython3",
   "version": "3.5.3"
  }
 },
 "nbformat": 4,
 "nbformat_minor": 2
}
