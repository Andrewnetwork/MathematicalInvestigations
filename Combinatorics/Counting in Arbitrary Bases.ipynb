{
 "cells": [
  {
   "cell_type": "markdown",
   "metadata": {},
   "source": [
    "# Counting in Arbitrary Bases\n",
    "** November 2017 **\n",
    "\n",
    "** Andrew Riberio @ [AndrewRib.com](http://www.andrewrib.com) **\n",
    "\n",
    "A demo of my hefty counter which can count in an arbitrary base. \n",
    "\n",
    "Port from my C++ Version: https://github.com/Andrewnetwork/breaking-the-code/blob/master/AndrewWork/Server/HeftyCounter.cpp\n",
    "\n",
    "## Ratonale \n",
    "I wrote a botnet that orchestrated the distributed solution of problems. At its core was a counting mechanism. The first conception for the system was to brute force the cracking of passwords-- the simplest use case we thought of for distributed computing. In order to do this, we would count in the base of the length of the password character lexicon, and every number in that base could be easily translated to a possible password in that character set. More importantly, ranges of numbers would represent password combinations. These password ranges would be sent to computers in the botnet whereupon the range of passwords would be tried against some locked file -- I designed it so that it would send the password range to an executable, making it more robust than I'm making it seem. \n",
    "\n",
    "This implementation can count in any arbitrary base and is extremely efficient. The size of the counter is only limited by the memory capacity of the host computer, as we numpy ndarray’s as the core data structure. \n",
    "\n",
    "A more full featured version of this code will be released as a python package in the near future. "
   ]
  },
  {
   "cell_type": "code",
   "execution_count": 128,
   "metadata": {},
   "outputs": [],
   "source": [
    "import numpy as np\n",
    "\n",
    "class HeftyCounter:\n",
    "    def __init__(self,length,base):\n",
    "        self.base        = base\n",
    "        self.counterSize = length\n",
    "        self.counter     = np.zeros(length)\n",
    "        \n",
    "    def __repr__(self):\n",
    "        return str(self.counter)\n",
    "    \n",
    "    def b10(self):\n",
    "        return self.bn(10)\n",
    "    \n",
    "    def bn(self,n):\n",
    "        a = HeftyCounter(1,n)\n",
    "        idx = self.counterSize - 1\n",
    "        countr = 0\n",
    "        while idx >= 0 and self.counter[idx] != 0:\n",
    "            r = self.counter[idx]*(self.base**countr)\n",
    "            a.increment(r)\n",
    "            countr += 1\n",
    "            idx -= 1\n",
    "        return a\n",
    "        \n",
    "    def increment(self, quantity ):\n",
    "\n",
    "        if quantity != 0:\n",
    "            remainder         = quantity\n",
    "            additionRemainder = 0\n",
    "            counterIndex      = 0\n",
    "            additionTemp      = 0\n",
    "            digitCount        = 1\n",
    "            cond              = True\n",
    "\n",
    "            #Convert quantity to the counters base and add it to the counter at the same time.\n",
    "            while cond:\n",
    "                counterIndex               = self.counterSize - digitCount\n",
    "                additionTemp               = (self.counter[counterIndex] + (remainder % self.base) + additionRemainder)\n",
    "                self.counter[counterIndex] = additionTemp % self.base\n",
    "                additionRemainder          = int(additionTemp) // int(self.base)\n",
    "                remainder                  = remainder // self.base\n",
    "\n",
    "                if (additionRemainder > 0 or remainder > 0) and digitCount >= self.counterSize :\n",
    "                    #Overflow.\n",
    "                    self.counter      = np.insert(self.counter,0,0)\n",
    "                    self.counterSize += 1\n",
    "\n",
    "                digitCount += 1\n",
    "\n",
    "                cond = remainder > 0 or additionRemainder > 0"
   ]
  },
  {
   "cell_type": "markdown",
   "metadata": {},
   "source": [
    "## Basics \n",
    "Let's count in base 30. We start off with a blank slate. "
   ]
  },
  {
   "cell_type": "code",
   "execution_count": 129,
   "metadata": {},
   "outputs": [
    {
     "data": {
      "text/plain": [
       "array([ 0.])"
      ]
     },
     "execution_count": 129,
     "metadata": {},
     "output_type": "execute_result"
    }
   ],
   "source": [
    "cntr = HeftyCounter(1,30)\n",
    "cntr.counter"
   ]
  },
  {
   "cell_type": "markdown",
   "metadata": {},
   "source": [
    "Our counter will dynamically expand as needed. Let's add a million to our counter. "
   ]
  },
  {
   "cell_type": "code",
   "execution_count": 130,
   "metadata": {},
   "outputs": [
    {
     "data": {
      "text/plain": [
       "[  1.  11.   4.  17.   1.   3.  10.]"
      ]
     },
     "execution_count": 130,
     "metadata": {},
     "output_type": "execute_result"
    }
   ],
   "source": [
    "cntr.increment(1000000000)\n",
    "cntr"
   ]
  },
  {
   "cell_type": "markdown",
   "metadata": {},
   "source": [
    "This is 1 million in base 30. We can confirm this by converting the counter to base 10."
   ]
  },
  {
   "cell_type": "code",
   "execution_count": 132,
   "metadata": {},
   "outputs": [
    {
     "data": {
      "text/plain": [
       "[ 1.  0.  0.  0.  0.  0.  0.  0.  0.  0.]"
      ]
     },
     "execution_count": 132,
     "metadata": {},
     "output_type": "execute_result"
    }
   ],
   "source": [
    "cntr.b10()"
   ]
  },
  {
   "cell_type": "markdown",
   "metadata": {},
   "source": [
    "We can easily convert this counter to any base. Let's see what it is in base 242 ( bet you haven't worked in that base!):"
   ]
  },
  {
   "cell_type": "code",
   "execution_count": 136,
   "metadata": {},
   "outputs": [
    {
     "data": {
      "text/plain": [
       "[  70.  135.   81.   98.]"
      ]
     },
     "execution_count": 136,
     "metadata": {},
     "output_type": "execute_result"
    }
   ],
   "source": [
    "cntr.bn(242)"
   ]
  }
 ],
 "metadata": {
  "kernelspec": {
   "display_name": "Python 3",
   "language": "python",
   "name": "python3"
  },
  "language_info": {
   "codemirror_mode": {
    "name": "ipython",
    "version": 3
   },
   "file_extension": ".py",
   "mimetype": "text/x-python",
   "name": "python",
   "nbconvert_exporter": "python",
   "pygments_lexer": "ipython3",
   "version": "3.5.3"
  }
 },
 "nbformat": 4,
 "nbformat_minor": 2
}
