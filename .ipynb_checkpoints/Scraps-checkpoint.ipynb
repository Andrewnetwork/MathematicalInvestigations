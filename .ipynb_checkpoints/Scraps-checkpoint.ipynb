{
 "cells": [
  {
   "cell_type": "code",
   "execution_count": 9,
   "metadata": {},
   "outputs": [
    {
     "ename": "ZeroDivisionError",
     "evalue": "integer division or modulo by zero",
     "output_type": "error",
     "traceback": [
      "\u001b[1;31m---------------------------------------------------------------------------\u001b[0m",
      "\u001b[1;31mZeroDivisionError\u001b[0m                         Traceback (most recent call last)",
      "\u001b[1;32m<ipython-input-9-d9cf668b880f>\u001b[0m in \u001b[0;36m<module>\u001b[1;34m()\u001b[0m\n\u001b[0;32m      6\u001b[0m             \u001b[1;32mreturn\u001b[0m \u001b[0mgcd\u001b[0m\u001b[1;33m(\u001b[0m\u001b[0ma\u001b[0m\u001b[1;33m/\u001b[0m\u001b[0mi\u001b[0m\u001b[1;33m)\u001b[0m \u001b[1;33m+\u001b[0m \u001b[0ma\u001b[0m\u001b[1;33m/\u001b[0m\u001b[0mi\u001b[0m\u001b[1;33m\u001b[0m\u001b[0m\n\u001b[0;32m      7\u001b[0m \u001b[1;33m\u001b[0m\u001b[0m\n\u001b[1;32m----> 8\u001b[1;33m \u001b[0mgcd\u001b[0m\u001b[1;33m(\u001b[0m\u001b[1;36m32\u001b[0m\u001b[1;33m)\u001b[0m\u001b[1;33m\u001b[0m\u001b[0m\n\u001b[0m",
      "\u001b[1;32m<ipython-input-9-d9cf668b880f>\u001b[0m in \u001b[0;36mgcd\u001b[1;34m(a)\u001b[0m\n\u001b[0;32m      3\u001b[0m         \u001b[1;32mif\u001b[0m \u001b[0ma\u001b[0m \u001b[1;33m==\u001b[0m \u001b[1;36m0\u001b[0m\u001b[1;33m:\u001b[0m\u001b[1;33m\u001b[0m\u001b[0m\n\u001b[0;32m      4\u001b[0m             \u001b[1;32mreturn\u001b[0m \u001b[1;36m0\u001b[0m\u001b[1;33m\u001b[0m\u001b[0m\n\u001b[1;32m----> 5\u001b[1;33m         \u001b[1;32melif\u001b[0m \u001b[0ma\u001b[0m \u001b[1;33m%\u001b[0m \u001b[0mi\u001b[0m \u001b[1;33m==\u001b[0m \u001b[1;36m0\u001b[0m\u001b[1;33m:\u001b[0m\u001b[1;33m\u001b[0m\u001b[0m\n\u001b[0m\u001b[0;32m      6\u001b[0m             \u001b[1;32mreturn\u001b[0m \u001b[0mgcd\u001b[0m\u001b[1;33m(\u001b[0m\u001b[0ma\u001b[0m\u001b[1;33m/\u001b[0m\u001b[0mi\u001b[0m\u001b[1;33m)\u001b[0m \u001b[1;33m+\u001b[0m \u001b[0ma\u001b[0m\u001b[1;33m/\u001b[0m\u001b[0mi\u001b[0m\u001b[1;33m\u001b[0m\u001b[0m\n\u001b[0;32m      7\u001b[0m \u001b[1;33m\u001b[0m\u001b[0m\n",
      "\u001b[1;31mZeroDivisionError\u001b[0m: integer division or modulo by zero"
     ]
    }
   ],
   "source": [
    "def gcd(a):\n",
    "    for i in range(a):\n",
    "        if a == 0:\n",
    "            return 0\n",
    "        elif a % i == 0:\n",
    "            return gcd(a/i) + a/i\n",
    "\n",
    "gcd(32)"
   ]
  },
  {
   "cell_type": "code",
   "execution_count": null,
   "metadata": {
    "collapsed": true
   },
   "outputs": [],
   "source": [
    "\n",
    "# A A | 2 0 0 0 | 3 0 0 0 | A A A\n",
    "# A B | 1 1 0 0 | 2 1 0 0 | A A B\n",
    "# A C | 1 0 1 0 | 2 0 1 0 | A A C\n",
    "# A D | 1 0 0 1 | 2 0 0 1 | A A D\n",
    "# B B | 0 2 0 0 | 1 2 0 0 | A B B\n",
    "# B C | 0 1 1 0 | 1 1 1 0 | A B C\n",
    "# B D | 0 1 0 1 | 1 1 0 1 | A B D\n",
    "# C C | 0 0 2 0           | A C C\n",
    "# C D | 0 0 1 1             A C D\n",
    "#                           A D D\n",
    "# D D | 0 0 0 2             B B B \n",
    "\n",
    "def fkn(arry):\n",
    "    out = []\n",
    "    while len(arry) > 0:\n",
    "        ls = []\n",
    "        for a in arry:\n",
    "            ls.append(a)\n",
    "        out.append(ls)\n",
    "        arry.pop(0)\n",
    "    return out\n",
    "\n",
    "def asn(prim,fst):\n",
    "    out = []\n",
    "    for elm in fst:\n",
    "        ls = []\n",
    "        for fsti in range(len(elm)):\n",
    "            ls.append(prim[0])\n",
    "        out.append(list(zip(ls,elm)))\n",
    "        prim.pop(0)\n",
    "    return out\n",
    "\n",
    "def tz(r):\n",
    "    out = []\n",
    "    for i in r[:]:\n",
    "        out.append((i,r))\n",
    "    return out\n",
    "\n",
    "    \n",
    "a = [\"A\",\"B\",\"C\",\"D\"]\n",
    "l = list(a)\n",
    "#asn(list(a),fkn(asn(list(a),fkn(list(a)))))\n",
    "asn(list(a),fkn(list(a)))\n",
    "#uniqueX(combX(3,['A',\"B\",\"C\",\"D\"]))"
   ]
  },
  {
   "cell_type": "code",
   "execution_count": null,
   "metadata": {
    "collapsed": true
   },
   "outputs": [],
   "source": [
    "# First we start with a dot product of a row vector * a column vector. \n",
    "htm = sp.Matrix([\"H\",\"T\"])\n",
    "r = htm * htm.T\n",
    "display(r)\n",
    "\n",
    "# Now we will flatten this matrix and repeat.\n",
    "r = sp.Matrix(sp.flatten(r)) * htm.T\n",
    "display(r)\n",
    "\n",
    "# One more to show what's going on. 2^4 = 16\n",
    "r = sp.Matrix(sp.flatten(r)) * htm.T\n",
    "display(r)"
   ]
  },
  {
   "cell_type": "markdown",
   "metadata": {},
   "source": [
    "Let's consider factorizing 1 into 3 factors. We can start with the uniform factor 1/3:\n",
    "$$ 1 = \\frac{1}{3}+\\frac{1}{3}+\\frac{1}{3} $$\n",
    "Now let's define our precision value to be 0.1 = 1/10. In order to get another valid factorization of 1 with respect to our precision value, we can deduct the precision value from one factor and add it to another. \n",
    "$$ 1 = \\frac{1}{3}+(\\frac{1}{3}-\\frac{1}{10})+(\\frac{1}{3}+\\frac{1}{10}) $$\n",
    "We can keep doing this untill we get:\n",
    "$$ 1 = \\frac{1}{3}+(\\frac{1}{3}-\\frac{2}{10})+(\\frac{1}{3}+\\frac{2}{10}) $$\n",
    "Because deducting 3/10 from our middle term would give us less than 1/10 ( violating our precision ). The problem isn't as simple as it seems, because the following is also a valid fractional factorization: \n",
    "$$ 1 = (\\frac{1}{3}+\\frac{1}{10})+(\\frac{1}{3}-\\frac{2}{10})+(\\frac{1}{3}+\\frac{1}{10}) $$\n",
    "\n",
    "It actually occurs to me that we are defining a type of geometric object. I.e. a circle is defined as such: \n",
    "$$ x^2 * y^2 = 1 $$\n",
    "We can calculate points on this circle with the parametric equations: \n",
    "$$ x = cx + r * cos(a)\\\\y = cy + r * sin(a) $$\n",
    "Where cx,cy is the orgin point, r being the radius, and a is the angle in radians ( which we adjust to calculate points along the curcumfrence )"
   ]
  },
  {
   "cell_type": "code",
   "execution_count": 11,
   "metadata": {},
   "outputs": [
    {
     "ename": "NameError",
     "evalue": "name 'np' is not defined",
     "output_type": "error",
     "traceback": [
      "\u001b[1;31m---------------------------------------------------------------------------\u001b[0m",
      "\u001b[1;31mNameError\u001b[0m                                 Traceback (most recent call last)",
      "\u001b[1;32m<ipython-input-11-a894b8e3e908>\u001b[0m in \u001b[0;36m<module>\u001b[1;34m()\u001b[0m\n\u001b[0;32m      2\u001b[0m \u001b[0mpoints\u001b[0m \u001b[1;33m=\u001b[0m \u001b[1;33m[\u001b[0m\u001b[1;33m]\u001b[0m\u001b[1;33m\u001b[0m\u001b[0m\n\u001b[0;32m      3\u001b[0m \u001b[1;32mfor\u001b[0m \u001b[0mi\u001b[0m \u001b[1;32min\u001b[0m \u001b[0mrange\u001b[0m\u001b[1;33m(\u001b[0m\u001b[1;36m361\u001b[0m\u001b[1;33m)\u001b[0m\u001b[1;33m:\u001b[0m\u001b[1;33m\u001b[0m\u001b[0m\n\u001b[1;32m----> 4\u001b[1;33m     \u001b[0mpoints\u001b[0m\u001b[1;33m.\u001b[0m\u001b[0mappend\u001b[0m\u001b[1;33m(\u001b[0m\u001b[1;33m[\u001b[0m\u001b[0mnp\u001b[0m\u001b[1;33m.\u001b[0m\u001b[0mcos\u001b[0m\u001b[1;33m(\u001b[0m\u001b[0mnp\u001b[0m\u001b[1;33m.\u001b[0m\u001b[0mradians\u001b[0m\u001b[1;33m(\u001b[0m\u001b[0mi\u001b[0m\u001b[1;33m)\u001b[0m\u001b[1;33m)\u001b[0m\u001b[1;33m,\u001b[0m\u001b[0mnp\u001b[0m\u001b[1;33m.\u001b[0m\u001b[0msin\u001b[0m\u001b[1;33m(\u001b[0m\u001b[0mnp\u001b[0m\u001b[1;33m.\u001b[0m\u001b[0mradians\u001b[0m\u001b[1;33m(\u001b[0m\u001b[0mi\u001b[0m\u001b[1;33m)\u001b[0m\u001b[1;33m)\u001b[0m\u001b[1;33m]\u001b[0m\u001b[1;33m)\u001b[0m\u001b[1;33m\u001b[0m\u001b[0m\n\u001b[0m\u001b[0;32m      5\u001b[0m \u001b[1;33m\u001b[0m\u001b[0m\n\u001b[0;32m      6\u001b[0m \u001b[1;31m# Does every point satisfy the equation above? Yes\u001b[0m\u001b[1;33m\u001b[0m\u001b[1;33m\u001b[0m\u001b[0m\n",
      "\u001b[1;31mNameError\u001b[0m: name 'np' is not defined"
     ]
    }
   ],
   "source": [
    "# For a circle in the origin, with a radius of 1.\n",
    "points = []\n",
    "for i in range(361):\n",
    "    points.append([np.cos(np.radians(i)),np.sin(np.radians(i))])\n",
    "\n",
    "# Does every point satisfy the equation above? Yes\n",
    "for i in points:\n",
    "    #print(i[0]**2+i[1]**2)\n",
    "    pass"
   ]
  },
  {
   "cell_type": "code",
   "execution_count": null,
   "metadata": {
    "collapsed": true
   },
   "outputs": [],
   "source": [
    " for i in idx:\n",
    "        ys.append(t)\n",
    "        zs.append(val - t )\n",
    "        \n",
    "    #for i in zip(ys,idx):\n",
    "       # zs.append(val - (i[0]+i[1]))\n",
    "    \n",
    "    return list(zip(idx,ys,zs))\n",
    "\n",
    "\n",
    "for i in summandsPermute(1,3):\n",
    "    print(\"{0:8f} + {1:8f} + {2:8f} = {3}\".format(i[0],i[1],i[2],i[0]+i[1]+i[2]))"
   ]
  }
 ],
 "metadata": {
  "kernelspec": {
   "display_name": "Python 3",
   "language": "python",
   "name": "python3"
  },
  "language_info": {
   "codemirror_mode": {
    "name": "ipython",
    "version": 3
   },
   "file_extension": ".py",
   "mimetype": "text/x-python",
   "name": "python",
   "nbconvert_exporter": "python",
   "pygments_lexer": "ipython3",
   "version": "3.5.3"
  }
 },
 "nbformat": 4,
 "nbformat_minor": 2
}
