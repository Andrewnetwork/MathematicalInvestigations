{
 "cells": [
  {
   "cell_type": "markdown",
   "metadata": {},
   "source": [
    "# Modulus"
   ]
  },
  {
   "cell_type": "code",
   "execution_count": 16,
   "metadata": {
    "collapsed": true
   },
   "outputs": [],
   "source": [
    "import sympy as sp\n",
    "import numpy as np\n",
    "import pandas as pd\n",
    "import matplotlib.pyplot as plt\n",
    "from ipywidgets import interact\n",
    "\n",
    "mnistDat = pd.read_csv('..\\Data\\MNIST_test.csv')\n",
    "\n",
    "sp.init_printing(order='rev-lex',use_latex='mathjax')"
   ]
  },
  {
   "cell_type": "code",
   "execution_count": 2,
   "metadata": {
    "collapsed": true
   },
   "outputs": [],
   "source": [
    "a,k,m,r = sp.symbols(\"a k m r\")"
   ]
  },
  {
   "cell_type": "code",
   "execution_count": 3,
   "metadata": {
    "collapsed": true
   },
   "outputs": [],
   "source": [
    "residue = sp.Eq(a,k*m+r)\n",
    "congruent = sp.Eq(sp.Mod(k,m),sp.Mod(a,m))"
   ]
  },
  {
   "cell_type": "code",
   "execution_count": 4,
   "metadata": {
    "collapsed": false
   },
   "outputs": [
    {
     "data": {
      "text/latex": [
       "$$\\mathrm{True}$$"
      ],
      "text/plain": [
       "True"
      ]
     },
     "execution_count": 4,
     "metadata": {},
     "output_type": "execute_result"
    }
   ],
   "source": [
    "congruent.subs({k:11,a:23,m:12})"
   ]
  },
  {
   "cell_type": "code",
   "execution_count": 5,
   "metadata": {
    "collapsed": false
   },
   "outputs": [
    {
     "name": "stdout",
     "output_type": "stream",
     "text": [
      "Eq(a, -1)\n",
      "Eq(a, 1)\n",
      "Eq(a, 3)\n",
      "Eq(a, 5)\n",
      "Eq(a, 7)\n",
      "Eq(a, 9)\n",
      "Eq(a, 11)\n",
      "Eq(a, 13)\n",
      "Eq(a, 15)\n",
      "Eq(a, 17)\n"
     ]
    }
   ],
   "source": [
    "for i in range(10):\n",
    "    print(residue.subs({m:2,k:i,r:-1}))"
   ]
  },
  {
   "cell_type": "code",
   "execution_count": 6,
   "metadata": {
    "collapsed": true
   },
   "outputs": [],
   "source": [
    "def residueGroups(negRange,posRange,modulo):\n",
    "    outMat = np.ndarray((0,0))\n",
    "    for i in range(negRange,posRange+1,1):\n",
    "        for m in range(modulo):\n",
    "            outMat = np.append(outMat,modulo*i+m)\n",
    "    return outMat.reshape(posRange+-1*negRange+1,modulo).T"
   ]
  },
  {
   "cell_type": "code",
   "execution_count": 7,
   "metadata": {
    "collapsed": false
   },
   "outputs": [
    {
     "data": {
      "image/png": "[encoded data removed]",
      "text/plain": [
       "<matplotlib.figure.Figure at 0x23253b46748>"
      ]
     },
     "metadata": {},
     "output_type": "display_data"
    }
   ],
   "source": [
    "a = residueGroups(-10,10,10)\n",
    "plt.subplots(figsize=(20,20))\n",
    "plt.imshow(a/100,cmap='coolwarm')\n",
    "plt.show()"
   ]
  },
  {
   "cell_type": "code",
   "execution_count": 28,
   "metadata": {
    "collapsed": false
   },
   "outputs": [
    {
     "data": {
      "application/vnd.jupyter.widget-view+json": {
       "model_id": "51609e5b6fa34046b509269f4b8220d2",
       "version_major": 2,
       "version_minor": 0
      },
      "text/html": [
       "<p>Failed to display Jupyter Widget of type <code>interactive</code>.</p>\n",
       "<p>\n",
       "  If you're reading this message in the Jupyter Notebook or JupyterLab Notebook, it may mean\n",
       "  that the widgets JavaScript is still loading. If this message persists, it\n",
       "  likely means that the widgets JavaScript library is either not installed or\n",
       "  not enabled. See the <a href=\"https://ipywidgets.readthedocs.io/en/stable/user_install.html\">Jupyter\n",
       "  Widgets Documentation</a> for setup instructions.\n",
       "</p>\n",
       "<p>\n",
       "  If you're reading this message in another frontend (for example, a static\n",
       "  rendering on GitHub or <a href=\"https://nbviewer.jupyter.org/\">NBViewer</a>),\n",
       "  it may mean that your frontend doesn't currently support widgets.\n",
       "</p>\n"
      ],
      "text/plain": [
       "interactive(children=(IntSlider(value=-10, description='minVal', max=-10, min=-80), IntSlider(value=30, description='maxVal', max=80, min=10), IntSlider(value=30, description='mod', max=300, min=1), IntSlider(value=10, description='subModulo', max=30), IntSlider(value=5, description='subModuloMultiplier', max=30), IntSlider(value=9, description='subModulo2', max=30), IntSlider(value=3, description='subModuloMultiplier2', max=30), IntSlider(value=1, description='subModulo3', max=30), IntSlider(value=1, description='subModuloMultiplier3', max=30), IntSlider(value=1, description='subModulo4', max=30), IntSlider(value=1, description='subModuloMultiplier4', max=30), IntSlider(value=1, description='subModulo5', max=30), IntSlider(value=1, description='subModuloMultiplier5', max=30), Output()), _dom_classes=('widget-interact',))"
      ]
     },
     "metadata": {},
     "output_type": "display_data"
    },
    {
     "data": {
      "text/plain": [
       "<function __main__.vis1>"
      ]
     },
     "execution_count": 28,
     "metadata": {},
     "output_type": "execute_result"
    }
   ],
   "source": [
    "def vis1(minVal=-10,maxVal=30,mod=30,\n",
    "         subModulo=10,subModuloMultiplier=5,\n",
    "         subModulo2=9,subModuloMultiplier2=3,\n",
    "         subModulo3=1,subModuloMultiplier3=1,\n",
    "         subModulo4=1,subModuloMultiplier4=1,\n",
    "         subModulo5=1,subModuloMultiplier5=1):\n",
    "    a = mnistDat[mod:mod+1].as_matrix().reshape(28,28)\n",
    "    plt.subplots(figsize=(10,10))\n",
    "    plt.imshow((a%(subModulo)*np.sin(subModuloMultiplier)),cmap='coolwarm',interpolation=\"hamming\")\n",
    "    plt.show()\n",
    "    \n",
    "interact(vis1,minVal=(-80,-10),maxVal=(10,80),mod=(1,300),\n",
    "         subModulo=(0,30),subModuloMultiplier=(0,30),\n",
    "         subModulo2=(0,30),subModuloMultiplier2=(0,30),\n",
    "         subModulo3=(0,30),subModuloMultiplier3=(0,30),\n",
    "         subModulo4=(0,30),subModuloMultiplier4=(0,30),\n",
    "         subModulo5=(0,30),subModuloMultiplier5=(0,30))"
   ]
  },
  {
   "cell_type": "code",
   "execution_count": 9,
   "metadata": {
    "collapsed": false
   },
   "outputs": [
    {
     "data": {
      "text/plain": [
       "array([[-100.,  -90.,  -80.,  -70.,  -60.,  -50.,  -40.,  -30.,  -20.,\n",
       "         -10.,    0.,   10.,   20.,   30.,   40.,   50.,   60.,   70.,\n",
       "          80.,   90.,  100.],\n",
       "       [ -99.,  -89.,  -79.,  -69.,  -59.,  -49.,  -39.,  -29.,  -19.,\n",
       "          -9.,    1.,   11.,   21.,   31.,   41.,   51.,   61.,   71.,\n",
       "          81.,   91.,  101.],\n",
       "       [ -98.,  -88.,  -78.,  -68.,  -58.,  -48.,  -38.,  -28.,  -18.,\n",
       "          -8.,    2.,   12.,   22.,   32.,   42.,   52.,   62.,   72.,\n",
       "          82.,   92.,  102.],\n",
       "       [ -97.,  -87.,  -77.,  -67.,  -57.,  -47.,  -37.,  -27.,  -17.,\n",
       "          -7.,    3.,   13.,   23.,   33.,   43.,   53.,   63.,   73.,\n",
       "          83.,   93.,  103.],\n",
       "       [ -96.,  -86.,  -76.,  -66.,  -56.,  -46.,  -36.,  -26.,  -16.,\n",
       "          -6.,    4.,   14.,   24.,   34.,   44.,   54.,   64.,   74.,\n",
       "          84.,   94.,  104.],\n",
       "       [ -95.,  -85.,  -75.,  -65.,  -55.,  -45.,  -35.,  -25.,  -15.,\n",
       "          -5.,    5.,   15.,   25.,   35.,   45.,   55.,   65.,   75.,\n",
       "          85.,   95.,  105.],\n",
       "       [ -94.,  -84.,  -74.,  -64.,  -54.,  -44.,  -34.,  -24.,  -14.,\n",
       "          -4.,    6.,   16.,   26.,   36.,   46.,   56.,   66.,   76.,\n",
       "          86.,   96.,  106.],\n",
       "       [ -93.,  -83.,  -73.,  -63.,  -53.,  -43.,  -33.,  -23.,  -13.,\n",
       "          -3.,    7.,   17.,   27.,   37.,   47.,   57.,   67.,   77.,\n",
       "          87.,   97.,  107.],\n",
       "       [ -92.,  -82.,  -72.,  -62.,  -52.,  -42.,  -32.,  -22.,  -12.,\n",
       "          -2.,    8.,   18.,   28.,   38.,   48.,   58.,   68.,   78.,\n",
       "          88.,   98.,  108.],\n",
       "       [ -91.,  -81.,  -71.,  -61.,  -51.,  -41.,  -31.,  -21.,  -11.,\n",
       "          -1.,    9.,   19.,   29.,   39.,   49.,   59.,   69.,   79.,\n",
       "          89.,   99.,  109.]])"
      ]
     },
     "execution_count": 9,
     "metadata": {},
     "output_type": "execute_result"
    }
   ],
   "source": [
    "a"
   ]
  },
  {
   "cell_type": "code",
   "execution_count": 10,
   "metadata": {
    "collapsed": true
   },
   "outputs": [],
   "source": []
  },
  {
   "cell_type": "code",
   "execution_count": 11,
   "metadata": {
    "collapsed": false
   },
   "outputs": [
    {
     "data": {
      "image/png": "[encoded data removed]",
      "text/plain": [
       "<matplotlib.figure.Figure at 0x232560130b8>"
      ]
     },
     "metadata": {},
     "output_type": "display_data"
    }
   ],
   "source": [
    "plt.imshow(mnistDat[0:1].as_matrix().reshape(28,28))\n",
    "plt.show()"
   ]
  },
  {
   "cell_type": "code",
   "execution_count": 12,
   "metadata": {
    "collapsed": true
   },
   "outputs": [],
   "source": [
    "def convolveModular(mnistImg,mod,submod):\n",
    "    plt.subplots(figsize=(10,10))\n",
    "    rg = residueGroups(-13,14,28)\n",
    "    #.get_array() \n",
    "    res = plt.imshow(((mnistImg-rg)%mod),interpolation=\"hanning\",cmap='binary')\n",
    "    plt.show()\n",
    "    return res.get_array()"
   ]
  },
  {
   "cell_type": "code",
   "execution_count": 13,
   "metadata": {
    "collapsed": true
   },
   "outputs": [],
   "source": [
    "def vis2(mod=600,imgIdx=5,submod=5):\n",
    "    convolveModular(mnistDat[imgIdx:imgIdx+1].as_matrix().reshape(28,28),mod,submod)"
   ]
  },
  {
   "cell_type": "code",
   "execution_count": 14,
   "metadata": {
    "collapsed": false
   },
   "outputs": [
    {
     "data": {
      "application/vnd.jupyter.widget-view+json": {
       "model_id": "ca80682afb1e4206838395a7de8c426e",
       "version_major": 2,
       "version_minor": 0
      },
      "text/html": [
       "<p>Failed to display Jupyter Widget of type <code>interactive</code>.</p>\n",
       "<p>\n",
       "  If you're reading this message in the Jupyter Notebook or JupyterLab Notebook, it may mean\n",
       "  that the widgets JavaScript is still loading. If this message persists, it\n",
       "  likely means that the widgets JavaScript library is either not installed or\n",
       "  not enabled. See the <a href=\"https://ipywidgets.readthedocs.io/en/stable/user_install.html\">Jupyter\n",
       "  Widgets Documentation</a> for setup instructions.\n",
       "</p>\n",
       "<p>\n",
       "  If you're reading this message in another frontend (for example, a static\n",
       "  rendering on GitHub or <a href=\"https://nbviewer.jupyter.org/\">NBViewer</a>),\n",
       "  it may mean that your frontend doesn't currently support widgets.\n",
       "</p>\n"
      ],
      "text/plain": [
       "interactive(children=(IntSlider(value=600, description='mod', max=600, min=3), IntSlider(value=5, description='imgIdx', max=600, min=1), IntSlider(value=5, description='submod', min=1), Output()), _dom_classes=('widget-interact',))"
      ]
     },
     "metadata": {},
     "output_type": "display_data"
    },
    {
     "data": {
      "text/plain": [
       "<function __main__.vis2>"
      ]
     },
     "execution_count": 14,
     "metadata": {},
     "output_type": "execute_result"
    }
   ],
   "source": [
    "interact(vis2,mod=(3,600),imgIdx=(1,600),submod=(1,100))"
   ]
  },
  {
   "cell_type": "code",
   "execution_count": 15,
   "metadata": {
    "collapsed": false
   },
   "outputs": [
    {
     "ename": "SyntaxError",
     "evalue": "invalid syntax (<ipython-input-15-20454584fc09>, line 1)",
     "output_type": "error",
     "traceback": [
      "\u001b[1;36m  File \u001b[1;32m\"<ipython-input-15-20454584fc09>\"\u001b[1;36m, line \u001b[1;32m1\u001b[0m\n\u001b[1;33m    def isRisidualSystem(ls,mod)\u001b[0m\n\u001b[1;37m                                ^\u001b[0m\n\u001b[1;31mSyntaxError\u001b[0m\u001b[1;31m:\u001b[0m invalid syntax\n"
     ]
    }
   ],
   "source": [
    "def isRisidualSystem(ls,mod)"
   ]
  },
  {
   "cell_type": "code",
   "execution_count": null,
   "metadata": {
    "collapsed": true
   },
   "outputs": [],
   "source": [
    "def findCong(lhs,rhs,mod):\n",
    "    sp.Eq(lhs^2,lhs^2)"
   ]
  },
  {
   "cell_type": "code",
   "execution_count": null,
   "metadata": {
    "collapsed": true
   },
   "outputs": [],
   "source": [
    "def residueGroups(negRange,posRange,modulo):\n",
    "    outMat = np.ndarray((0,0))\n",
    "    for i in range(negRange,posRange+1,1):\n",
    "        for m in range(modulo):\n",
    "            outMat = np.append(outMat,modulo*i+m)\n",
    "    return outMat.reshape(posRange+-1*negRange+1,modulo).T"
   ]
  },
  {
   "cell_type": "code",
   "execution_count": null,
   "metadata": {
    "collapsed": true
   },
   "outputs": [],
   "source": [
    "residueGroups(-3,3,10)"
   ]
  },
  {
   "cell_type": "code",
   "execution_count": null,
   "metadata": {
    "collapsed": true
   },
   "outputs": [],
   "source": [
    "sp.Mod(3,4)"
   ]
  },
  {
   "cell_type": "code",
   "execution_count": null,
   "metadata": {
    "collapsed": true
   },
   "outputs": [],
   "source": []
  }
 ],
 "metadata": {
  "kernelspec": {
   "display_name": "Python 3",
   "language": "python",
   "name": "python3"
  },
  "language_info": {
   "codemirror_mode": {
    "name": "ipython",
    "version": 3
   },
   "file_extension": ".py",
   "mimetype": "text/x-python",
   "name": "python",
   "nbconvert_exporter": "python",
   "pygments_lexer": "ipython3",
   "version": "3.6.0"
  }
 },
 "nbformat": 4,
 "nbformat_minor": 2
}
