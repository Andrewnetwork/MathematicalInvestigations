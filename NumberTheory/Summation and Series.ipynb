{
 "cells": [
  {
   "cell_type": "markdown",
   "metadata": {},
   "source": [
    "# Summation and Series\n",
    "** December 2017 **\n",
    "\n",
    "** Andrew Riberio @ [AndrewRib.com](http://www.andrewrib.com) **\n",
    "\n",
    "A notebook exploring summnations, series, and the equivalent linear form. \n",
    "\n",
    "** Note: ** This notebook contains interactive elements and certain latex snippets that will not render in github markdown. \n",
    "You must run this notebook on your local Jupyter notebook environment for interactive elements or render or if you wish to render just the latex by using the url of this repo with the [online NBViewer](https://nbviewer.jupyter.org/).\n",
    "\n",
    "## Libraries"
   ]
  },
  {
   "cell_type": "code",
   "execution_count": 548,
   "metadata": {
    "collapsed": true
   },
   "outputs": [],
   "source": [
    "import sympy as sp\n",
    "import numpy as np\n",
    "from IPython.display import display\n",
    "from ipywidgets import interact\n",
    "from sympy.utilities.lambdify import lambdify\n",
    "import matplotlib.pyplot as plt\n",
    "from sympy import Matrix, solve_linear_system\n",
    "sp.init_printing(order='lex',use_latex='mathjax')"
   ]
  },
  {
   "cell_type": "markdown",
   "metadata": {},
   "source": [
    "## Three Forms"
   ]
  },
  {
   "cell_type": "markdown",
   "metadata": {},
   "source": [
    "Here are three equivalent ways of representing the series of natural numbers:\n",
    "1. Summnation notation.\n",
    "2. Closed gaussian form. \n",
    "3. Linear form "
   ]
  },
  {
   "cell_type": "markdown",
   "metadata": {},
   "source": [
    "$$\n",
    "\\large\\sum_{i=1}^{n}{i} = \\frac{n(n+1)}{2} = \n",
    "\\frac{\n",
    "\\begin{bmatrix}\n",
    "1\\\\\n",
    "1\n",
    "\\end{bmatrix}^\\intercal\n",
    "\\begin{bmatrix}\n",
    "n && n-1 && n-2 && \\dots && 0 \\\\\n",
    "0 && 1 && 2 && \\dots&& n\n",
    "\\end{bmatrix}\n",
    "\\begin{bmatrix}\n",
    "1&&1&&\\dots&& n\n",
    "\\end{bmatrix}^\\intercal}{2}\n",
    "$$"
   ]
  },
  {
   "cell_type": "markdown",
   "metadata": {},
   "source": [
    "The original gaussian intution for the closed form solution looked like the linear form, although it was not burdened down with the linear algebra tricks for summing each column, then adding the result of that. These linear methods seemed to come natural to gauss. Here are the implementations of the three equivalent definitions. "
   ]
  },
  {
   "cell_type": "code",
   "execution_count": 93,
   "metadata": {
    "collapsed": true
   },
   "outputs": [],
   "source": [
    "def summnation(n):\n",
    "    sum = 0\n",
    "    for i in range(n+1):\n",
    "        sum += i\n",
    "    return sum\n",
    "\n",
    "def gaussianForm(n):\n",
    "    return (n*(n+1))/2\n",
    "\n",
    "def linearForm(n):\n",
    "    colVec = np.matrix([1,1])\n",
    "    rowVec = np.matrix(np.ones(n+1)).T\n",
    "    nVec = np.arange(0,n+1)\n",
    "    nMat = [nVec,np.flip(nVec,0)]\n",
    "    \n",
    "    return (colVec*nMat)*rowVec/2"
   ]
  },
  {
   "cell_type": "code",
   "execution_count": 92,
   "metadata": {},
   "outputs": [
    {
     "name": "stdout",
     "output_type": "stream",
     "text": [
      "Do the three methods produce the same result: True\n"
     ]
    }
   ],
   "source": [
    "testN = 40\n",
    "eqCheck = summnation(testN) == gaussianForm(testN) == int(linearForm(testN))\n",
    "\n",
    "print(\"Do the three methods produce the same result: {0}\".format(eqCheck))"
   ]
  },
  {
   "cell_type": "markdown",
   "metadata": {},
   "source": [
    "## Modifying the closed form.\n",
    "\n",
    "One aspect of mathematics I enjoy is that when we have a representation in terms of variables, it is natural to ask what happens when we change them. For example, what if we modify the closed form so that the constants are also variables: \n",
    "\n",
    "$$\n",
    "\\large\\frac{n(n+\\mathbf{k})}{\\mathbf{z}}\n",
    "$$\n",
    "\n",
    "How does changing $\\mathbf{k}$ and $\\mathbf{z}$ change what series we are computing? How can we think of this intuitively? For the moment we will keep $\\mathbf{z}=2$. Such that: \n",
    "\n",
    "$$\n",
    "\\large\\frac{n(n+\\mathbf{k})}{2}\n",
    "$$\n",
    "\n",
    "When $\\mathbf{k}=1$ we get the sum of the natural numbers up to and including $n$. Or:\n",
    "\n",
    "$$\n",
    "\\large\\sum_{i=1}^{n}{i}\n",
    "$$\n",
    "\n",
    "What about when When $\\mathbf{k}=2$? In order to explore these questions we define a function that allows us to change the linear form and explore different closed forms. "
   ]
  },
  {
   "cell_type": "code",
   "execution_count": 318,
   "metadata": {
    "collapsed": true
   },
   "outputs": [],
   "source": [
    "def lfShift(n,shiftVal,printOut=True):\n",
    "    colVec = np.matrix([1,1])\n",
    "    rowVec = np.matrix(np.ones(n+1)).T\n",
    "    nVec = np.arange(0,n+1)\n",
    "    nMat = [nVec,np.arange(n+shiftVal,-1+shiftVal,-1)]\n",
    "    \n",
    "    if printOut:\n",
    "        display(sp.Matrix(nMat))\n",
    "\n",
    "    return (colVec*nMat)*rowVec/2\n",
    "\n",
    "def generalForm(n,k,z,m):\n",
    "    return (n*(n+k) + m) / z\n",
    "\n",
    "def exploreShifting(shiftMagnitude,k=1,z=2,m=0):\n",
    "    n = sp.symbols('n')\n",
    "    norm = ((n*(n + k))/z) + (m/z)\n",
    "    print(\"norm:\")\n",
    "    display(norm)\n",
    "    \n",
    "    print(\"n = 4, with shift = {0}\".format(shiftMagnitude))\n",
    "    lfShift(3,shiftMagnitude)\n",
    "    print(\"{0:<2} | {1:<5}  |  {2:<5} | sh-norm\".format(\"i\",\"sh\",\"norm\"))\n",
    "    print(\"-------------------------------\")\n",
    "    for i in range(1,11):\n",
    "        shiftVal = float(lfShift(i,shiftMagnitude,False))\n",
    "        normVal  = generalForm(i,k,z,m)\n",
    "        print(\"{0:<2} | {1:<5}  |  {2:<5} | {3:<5}\".format(i,shiftVal,normVal, shiftVal-normVal))"
   ]
  },
  {
   "cell_type": "code",
   "execution_count": 334,
   "metadata": {},
   "outputs": [
    {
     "data": {
      "image/png": "[encoded data removed]",
      "text/latex": [
       "$$\\left[\\begin{matrix}0 & 1 & 2 & 3\\\\1 & 0 & -1 & -2\\end{matrix}\\right]$$"
      ],
      "text/plain": [
       "⎡0  1  2   3 ⎤\n",
       "⎢            ⎥\n",
       "⎣1  0  -1  -2⎦"
      ]
     },
     "metadata": {},
     "output_type": "display_data"
    },
    {
     "data": {
      "image/png": "[encoded data removed]",
      "text/latex": [
       "$$\\left[\\begin{matrix}0 & 1 & 2 & 3\\\\2 & 1 & 0 & -1\\end{matrix}\\right]$$"
      ],
      "text/plain": [
       "⎡0  1  2  3 ⎤\n",
       "⎢           ⎥\n",
       "⎣2  1  0  -1⎦"
      ]
     },
     "metadata": {},
     "output_type": "display_data"
    },
    {
     "data": {
      "image/png": "[encoded data removed]",
      "text/latex": [
       "$$\\left[\\begin{matrix}0 & 1 & 2 & 3\\\\3 & 2 & 1 & 0\\end{matrix}\\right]$$"
      ],
      "text/plain": [
       "⎡0  1  2  3⎤\n",
       "⎢          ⎥\n",
       "⎣3  2  1  0⎦"
      ]
     },
     "metadata": {},
     "output_type": "display_data"
    },
    {
     "data": {
      "image/png": "[encoded data removed]",
      "text/latex": [
       "$$\\left[\\begin{matrix}0 & 1 & 2 & 3\\\\4 & 3 & 2 & 1\\end{matrix}\\right]$$"
      ],
      "text/plain": [
       "⎡0  1  2  3⎤\n",
       "⎢          ⎥\n",
       "⎣4  3  2  1⎦"
      ]
     },
     "metadata": {},
     "output_type": "display_data"
    },
    {
     "data": {
      "image/png": "[encoded data removed]",
      "text/latex": [
       "$$\\left[\\begin{matrix}0 & 1 & 2 & 3\\\\5 & 4 & 3 & 2\\end{matrix}\\right]$$"
      ],
      "text/plain": [
       "⎡0  1  2  3⎤\n",
       "⎢          ⎥\n",
       "⎣5  4  3  2⎦"
      ]
     },
     "metadata": {},
     "output_type": "display_data"
    },
    {
     "data": {
      "text/plain": [
       "matrix([[ 10.]])"
      ]
     },
     "execution_count": 334,
     "metadata": {},
     "output_type": "execute_result"
    }
   ],
   "source": [
    "lfShift(3,-2)\n",
    "lfShift(3,-1)\n",
    "lfShift(3,0)\n",
    "lfShift(3,1)\n",
    "lfShift(3,2)"
   ]
  },
  {
   "cell_type": "code",
   "execution_count": 326,
   "metadata": {},
   "outputs": [
    {
     "name": "stdout",
     "output_type": "stream",
     "text": [
      "norm:\n"
     ]
    },
    {
     "data": {
      "image/png": "[encoded data removed]",
      "text/latex": [
       "$$\\frac{n}{2} \\left(n + 1\\right)$$"
      ],
      "text/plain": [
       "n⋅(n + 1)\n",
       "─────────\n",
       "    2    "
      ]
     },
     "metadata": {},
     "output_type": "display_data"
    },
    {
     "name": "stdout",
     "output_type": "stream",
     "text": [
      "n = 4, with shift = 0\n"
     ]
    },
    {
     "data": {
      "image/png": "[encoded data removed]",
      "text/latex": [
       "$$\\left[\\begin{matrix}0 & 1 & 2 & 3\\\\3 & 2 & 1 & 0\\end{matrix}\\right]$$"
      ],
      "text/plain": [
       "⎡0  1  2  3⎤\n",
       "⎢          ⎥\n",
       "⎣3  2  1  0⎦"
      ]
     },
     "metadata": {},
     "output_type": "display_data"
    },
    {
     "name": "stdout",
     "output_type": "stream",
     "text": [
      "i  | sh     |  norm  | sh-norm\n",
      "-------------------------------\n",
      "1  | 1.0    |  1.0   | 0.0  \n",
      "2  | 3.0    |  3.0   | 0.0  \n",
      "3  | 6.0    |  6.0   | 0.0  \n",
      "4  | 10.0   |  10.0  | 0.0  \n",
      "5  | 15.0   |  15.0  | 0.0  \n",
      "6  | 21.0   |  21.0  | 0.0  \n",
      "7  | 28.0   |  28.0  | 0.0  \n",
      "8  | 36.0   |  36.0  | 0.0  \n",
      "9  | 45.0   |  45.0  | 0.0  \n",
      "10 | 55.0   |  55.0  | 0.0  \n"
     ]
    }
   ],
   "source": [
    "exploreShifting(0,1,2,0)"
   ]
  },
  {
   "cell_type": "code",
   "execution_count": 329,
   "metadata": {},
   "outputs": [
    {
     "name": "stdout",
     "output_type": "stream",
     "text": [
      "norm:\n"
     ]
    },
    {
     "data": {
      "image/png": "[encoded data removed]",
      "text/latex": [
       "$$\\frac{n}{2} \\left(n + 3\\right) + 1.0$$"
      ],
      "text/plain": [
       "n⋅(n + 3)      \n",
       "───────── + 1.0\n",
       "    2          "
      ]
     },
     "metadata": {},
     "output_type": "display_data"
    },
    {
     "name": "stdout",
     "output_type": "stream",
     "text": [
      "n = 4, with shift = 2\n"
     ]
    },
    {
     "data": {
      "image/png": "[encoded data removed]",
      "text/latex": [
       "$$\\left[\\begin{matrix}0 & 1 & 2 & 3\\\\5 & 4 & 3 & 2\\end{matrix}\\right]$$"
      ],
      "text/plain": [
       "⎡0  1  2  3⎤\n",
       "⎢          ⎥\n",
       "⎣5  4  3  2⎦"
      ]
     },
     "metadata": {},
     "output_type": "display_data"
    },
    {
     "name": "stdout",
     "output_type": "stream",
     "text": [
      "i  | sh     |  norm  | sh-norm\n",
      "-------------------------------\n",
      "1  | 3.0    |  3.0   | 0.0  \n",
      "2  | 6.0    |  6.0   | 0.0  \n",
      "3  | 10.0   |  10.0  | 0.0  \n",
      "4  | 15.0   |  15.0  | 0.0  \n",
      "5  | 21.0   |  21.0  | 0.0  \n",
      "6  | 28.0   |  28.0  | 0.0  \n",
      "7  | 36.0   |  36.0  | 0.0  \n",
      "8  | 45.0   |  45.0  | 0.0  \n",
      "9  | 55.0   |  55.0  | 0.0  \n",
      "10 | 66.0   |  66.0  | 0.0  \n"
     ]
    }
   ],
   "source": [
    "#interact(exploreShifting,shiftMagnitude=[-10,10],k=[-10,10],z=[-10,10])\n",
    "exploreShifting(2,3,2,2)"
   ]
  },
  {
   "cell_type": "markdown",
   "metadata": {},
   "source": [
    "We derive the following from experimenting with the utilities above: \n",
    "\n",
    "$$\n",
    "\\large\\frac{n(n+1+s)+s}{2} =  \\frac{n(n+1)}{2}+\\frac{s(n+1)}{2} = \\sum_{i=1}^{n}{i+s} = \\sum_{i=1}^{n}{i}+\\sum_{i=1}^{n}{s}\n",
    "$$\n",
    "\n",
    "Thus multiplying the the bottom row by some constant is equivalent to adding that constant in a summnation. What if instead we apply some function to the bottom vector. I.e. \n",
    "\n",
    "$$\n",
    "f(\n",
    "\\begin{bmatrix}\n",
    "n && n-1 && n-2 && \\dots && 0 \n",
    "\\end{bmatrix},z(x))=\n",
    "\\begin{bmatrix}\n",
    "z(n) && z(n-1) && z(n-2) && \\dots && z(0)\n",
    "\\end{bmatrix}\n",
    "$$\n",
    "\n",
    "In the above case we have $z(x)=x*c$\n",
    "\n",
    "What about when z in non-linear. I.e. $z(x)= x^2$\n",
    "\n",
    "$$\n",
    "f(\n",
    "\\begin{bmatrix}\n",
    "n && n-1 && n-2 && \\dots && 0 \n",
    "\\end{bmatrix},z(x)=x^2)=\n",
    "\\begin{bmatrix}\n",
    "n^2 && (n-1)^2 && (n-2)^2 && \\dots && 0\n",
    "\\end{bmatrix}\n",
    "$$"
   ]
  },
  {
   "cell_type": "code",
   "execution_count": 484,
   "metadata": {
    "collapsed": true
   },
   "outputs": [],
   "source": [
    "def funcRow(n,fn,printOut=True):\n",
    "    colVec = np.matrix([1,1])\n",
    "    rowVec = np.matrix(np.ones(n+1)).T\n",
    "    nVec = np.arange(0,n+1)\n",
    "    revRange = np.arange(n,-1,-1)\n",
    "    fnApply = np.apply_along_axis(fn,0,revRange)\n",
    "    nMat = [nVec,fnApply]\n",
    "    \n",
    "    if printOut:\n",
    "        display(sp.Matrix(nMat))\n",
    "\n",
    "    return (colVec*nMat)*rowVec/2\n",
    "\n",
    "def sumVect(n):\n",
    "    summ = 0\n",
    "    outLs = []\n",
    "    for i in range(1,n+1):\n",
    "        summ += i\n",
    "        outLs = outLs+[summ]\n",
    "    return np.matrix(outLs)\n",
    "\n",
    "def exploreFuncting( rowFn, normFn):\n",
    "    n = sp.symbols('n')\n",
    "    norm = normFn(n)\n",
    "    print(\"norm:\")\n",
    "    display(norm)\n",
    "    \n",
    "    print(\"n = 4, with function\")\n",
    "    x= sp.symbols('x')\n",
    "    display(rowFn(x))\n",
    "    funcRow(3,rowFn)\n",
    "    print(\"{0:<2} | {1:<5}  |  {2:<5} | fn-norm\".format(\"i\",\"fn\",\"norm\"))\n",
    "    print(\"-------------------------------\")\n",
    "    for i in range(1,15):\n",
    "        shiftVal = float(funcRow(i,rowFn,False))\n",
    "        normVal  = normFn(i)\n",
    "        print(\"{0:<2} | {1:<5}  |  {2:<5} | {3:<5}\".format(i,shiftVal,normVal, shiftVal-normVal))"
   ]
  },
  {
   "cell_type": "code",
   "execution_count": 485,
   "metadata": {},
   "outputs": [
    {
     "name": "stdout",
     "output_type": "stream",
     "text": [
      "norm:\n"
     ]
    },
    {
     "data": {
      "text/latex": [
       "$$\\frac{n}{2} \\left(n + 1\\right)$$"
      ],
      "text/plain": [
       "n⋅(n + 1)\n",
       "─────────\n",
       "    2    "
      ]
     },
     "metadata": {},
     "output_type": "display_data"
    },
    {
     "name": "stdout",
     "output_type": "stream",
     "text": [
      "n = 4, with function\n"
     ]
    },
    {
     "data": {
      "text/latex": [
       "$$x^{2}$$"
      ],
      "text/plain": [
       " 2\n",
       "x "
      ]
     },
     "metadata": {},
     "output_type": "display_data"
    },
    {
     "data": {
      "text/latex": [
       "$$\\left[\\begin{matrix}0 & 1 & 2 & 3\\\\9 & 4 & 1 & 0\\end{matrix}\\right]$$"
      ],
      "text/plain": [
       "⎡0  1  2  3⎤\n",
       "⎢          ⎥\n",
       "⎣9  4  1  0⎦"
      ]
     },
     "metadata": {},
     "output_type": "display_data"
    },
    {
     "name": "stdout",
     "output_type": "stream",
     "text": [
      "i  | fn     |  norm  | fn-norm\n",
      "-------------------------------\n",
      "1  | 1.0    |  1.0   | 0.0  \n",
      "2  | 4.0    |  3.0   | 1.0  \n",
      "3  | 10.0   |  6.0   | 4.0  \n",
      "4  | 20.0   |  10.0  | 10.0 \n",
      "5  | 35.0   |  15.0  | 20.0 \n",
      "6  | 56.0   |  21.0  | 35.0 \n",
      "7  | 84.0   |  28.0  | 56.0 \n",
      "8  | 120.0  |  36.0  | 84.0 \n",
      "9  | 165.0  |  45.0  | 120.0\n",
      "10 | 220.0  |  55.0  | 165.0\n",
      "11 | 286.0  |  66.0  | 220.0\n",
      "12 | 364.0  |  78.0  | 286.0\n",
      "13 | 455.0  |  91.0  | 364.0\n",
      "14 | 560.0  |  105.0 | 455.0\n"
     ]
    }
   ],
   "source": [
    "normFun = lambda n:(n*(n+1))/2 \n",
    "rowFun = lambda x:x*x\n",
    "exploreFuncting(rowFun,normFun)"
   ]
  },
  {
   "cell_type": "markdown",
   "metadata": {},
   "source": [
    "This is an interesting result. As we see, the fn column is a sum of the norm column!\n",
    "\n",
    "$$\n",
    "\\large f(n) = \\frac{n(n+1)}{2} \\\\\n",
    "\\sum_{i=1}^{n}{f(i)} = \\frac{n(n+1)}{2} + \\frac{(n-1)(n-2)}{2} + \\frac{(n-3)(n-2)}{2} + \\frac{(n-4)(n-3)}{2} + \\dots + \\frac{(n-n+1)(n-n+1+1)}{2}=\\\\\n",
    "\\frac{\n",
    "\\begin{bmatrix}\n",
    "1\\\\\n",
    "1\n",
    "\\end{bmatrix}^\\intercal\n",
    "\\begin{bmatrix}\n",
    "n^2 && (n-1)^2 && (n-2)^2 && \\dots && 0 \\\\\n",
    "0 && 1 && 2 && \\dots&& n\n",
    "\\end{bmatrix}\n",
    "\\begin{bmatrix}\n",
    "1&&1&&\\dots&& n\n",
    "\\end{bmatrix}^\\intercal}{2}\n",
    "$$"
   ]
  },
  {
   "cell_type": "code",
   "execution_count": 670,
   "metadata": {},
   "outputs": [
    {
     "data": {
      "text/latex": [
       "$$\\frac{n}{2} \\left(n - 1\\right)$$"
      ],
      "text/plain": [
       "n⋅(n - 1)\n",
       "─────────\n",
       "    2    "
      ]
     },
     "metadata": {},
     "output_type": "display_data"
    },
    {
     "name": "stdout",
     "output_type": "stream",
     "text": [
      "0.0\n"
     ]
    },
    {
     "data": {
      "text/latex": [
       "$$\\frac{n}{2} \\left(n - 1\\right) + \\frac{1}{2} \\left(n - 2\\right) \\left(n - 1\\right)$$"
      ],
      "text/plain": [
       "n⋅(n - 1)   (n - 2)⋅(n - 1)\n",
       "───────── + ───────────────\n",
       "    2              2       "
      ]
     },
     "metadata": {},
     "output_type": "display_data"
    },
    {
     "name": "stdout",
     "output_type": "stream",
     "text": [
      "1.0\n"
     ]
    },
    {
     "data": {
      "text/latex": [
       "$$\\frac{n}{2} \\left(n - 1\\right) + \\frac{1}{2} \\left(n - 3\\right) \\left(n - 2\\right) + \\frac{1}{2} \\left(n - 2\\right) \\left(n - 1\\right)$$"
      ],
      "text/plain": [
       "n⋅(n - 1)   (n - 3)⋅(n - 2)   (n - 2)⋅(n - 1)\n",
       "───────── + ─────────────── + ───────────────\n",
       "    2              2                 2       "
      ]
     },
     "metadata": {},
     "output_type": "display_data"
    },
    {
     "name": "stdout",
     "output_type": "stream",
     "text": [
      "4.0\n"
     ]
    },
    {
     "data": {
      "text/latex": [
       "$$\\frac{n}{2} \\left(n - 1\\right) + \\frac{1}{2} \\left(n - 4\\right) \\left(n - 3\\right) + \\frac{1}{2} \\left(n - 3\\right) \\left(n - 2\\right) + \\frac{1}{2} \\left(n - 2\\right) \\left(n - 1\\right)$$"
      ],
      "text/plain": [
       "n⋅(n - 1)   (n - 4)⋅(n - 3)   (n - 3)⋅(n - 2)   (n - 2)⋅(n - 1)\n",
       "───────── + ─────────────── + ─────────────── + ───────────────\n",
       "    2              2                 2                 2       "
      ]
     },
     "metadata": {},
     "output_type": "display_data"
    },
    {
     "name": "stdout",
     "output_type": "stream",
     "text": [
      "10.0\n"
     ]
    },
    {
     "data": {
      "text/latex": [
       "$$\\frac{n}{2} \\left(n - 1\\right) + \\frac{1}{2} \\left(n - 5\\right) \\left(n - 4\\right) + \\frac{1}{2} \\left(n - 4\\right) \\left(n - 3\\right) + \\frac{1}{2} \\left(n - 3\\right) \\left(n - 2\\right) + \\frac{1}{2} \\left(n - 2\\right) \\left(n - 1\\right)$$"
      ],
      "text/plain": [
       "n⋅(n - 1)   (n - 5)⋅(n - 4)   (n - 4)⋅(n - 3)   (n - 3)⋅(n - 2)   (n - 2)⋅(n -\n",
       "───────── + ─────────────── + ─────────────── + ─────────────── + ────────────\n",
       "    2              2                 2                 2                 2    \n",
       "\n",
       " 1)\n",
       "───\n",
       "   "
      ]
     },
     "metadata": {},
     "output_type": "display_data"
    },
    {
     "name": "stdout",
     "output_type": "stream",
     "text": [
      "20.0\n"
     ]
    },
    {
     "data": {
      "text/latex": [
       "$$\\frac{n}{2} \\left(n - 1\\right) + \\frac{1}{2} \\left(n - 6\\right) \\left(n - 5\\right) + \\frac{1}{2} \\left(n - 5\\right) \\left(n - 4\\right) + \\frac{1}{2} \\left(n - 4\\right) \\left(n - 3\\right) + \\frac{1}{2} \\left(n - 3\\right) \\left(n - 2\\right) + \\frac{1}{2} \\left(n - 2\\right) \\left(n - 1\\right)$$"
      ],
      "text/plain": [
       "n⋅(n - 1)   (n - 6)⋅(n - 5)   (n - 5)⋅(n - 4)   (n - 4)⋅(n - 3)   (n - 3)⋅(n -\n",
       "───────── + ─────────────── + ─────────────── + ─────────────── + ────────────\n",
       "    2              2                 2                 2                 2    \n",
       "\n",
       " 2)   (n - 2)⋅(n - 1)\n",
       "─── + ───────────────\n",
       "             2       "
      ]
     },
     "metadata": {},
     "output_type": "display_data"
    },
    {
     "name": "stdout",
     "output_type": "stream",
     "text": [
      "35.0\n"
     ]
    },
    {
     "data": {
      "text/latex": [
       "$$\\frac{n}{2} \\left(n - 1\\right) + \\frac{1}{2} \\left(n - 7\\right) \\left(n - 6\\right) + \\frac{1}{2} \\left(n - 6\\right) \\left(n - 5\\right) + \\frac{1}{2} \\left(n - 5\\right) \\left(n - 4\\right) + \\frac{1}{2} \\left(n - 4\\right) \\left(n - 3\\right) + \\frac{1}{2} \\left(n - 3\\right) \\left(n - 2\\right) + \\frac{1}{2} \\left(n - 2\\right) \\left(n - 1\\right)$$"
      ],
      "text/plain": [
       "n⋅(n - 1)   (n - 7)⋅(n - 6)   (n - 6)⋅(n - 5)   (n - 5)⋅(n - 4)   (n - 4)⋅(n -\n",
       "───────── + ─────────────── + ─────────────── + ─────────────── + ────────────\n",
       "    2              2                 2                 2                 2    \n",
       "\n",
       " 3)   (n - 3)⋅(n - 2)   (n - 2)⋅(n - 1)\n",
       "─── + ─────────────── + ───────────────\n",
       "             2                 2       "
      ]
     },
     "metadata": {},
     "output_type": "display_data"
    },
    {
     "name": "stdout",
     "output_type": "stream",
     "text": [
      "56.0\n"
     ]
    },
    {
     "data": {
      "text/latex": [
       "$$\\frac{n}{2} \\left(n - 1\\right) + \\frac{1}{2} \\left(n - 8\\right) \\left(n - 7\\right) + \\frac{1}{2} \\left(n - 7\\right) \\left(n - 6\\right) + \\frac{1}{2} \\left(n - 6\\right) \\left(n - 5\\right) + \\frac{1}{2} \\left(n - 5\\right) \\left(n - 4\\right) + \\frac{1}{2} \\left(n - 4\\right) \\left(n - 3\\right) + \\frac{1}{2} \\left(n - 3\\right) \\left(n - 2\\right) + \\frac{1}{2} \\left(n - 2\\right) \\left(n - 1\\right)$$"
      ],
      "text/plain": [
       "n⋅(n - 1)   (n - 8)⋅(n - 7)   (n - 7)⋅(n - 6)   (n - 6)⋅(n - 5)   (n - 5)⋅(n -\n",
       "───────── + ─────────────── + ─────────────── + ─────────────── + ────────────\n",
       "    2              2                 2                 2                 2    \n",
       "\n",
       " 4)   (n - 4)⋅(n - 3)   (n - 3)⋅(n - 2)   (n - 2)⋅(n - 1)\n",
       "─── + ─────────────── + ─────────────── + ───────────────\n",
       "             2                 2                 2       "
      ]
     },
     "metadata": {},
     "output_type": "display_data"
    },
    {
     "name": "stdout",
     "output_type": "stream",
     "text": [
      "84.0\n"
     ]
    },
    {
     "data": {
      "text/latex": [
       "$$\\frac{n}{2} \\left(n - 1\\right) + \\frac{1}{2} \\left(n - 9\\right) \\left(n - 8\\right) + \\frac{1}{2} \\left(n - 8\\right) \\left(n - 7\\right) + \\frac{1}{2} \\left(n - 7\\right) \\left(n - 6\\right) + \\frac{1}{2} \\left(n - 6\\right) \\left(n - 5\\right) + \\frac{1}{2} \\left(n - 5\\right) \\left(n - 4\\right) + \\frac{1}{2} \\left(n - 4\\right) \\left(n - 3\\right) + \\frac{1}{2} \\left(n - 3\\right) \\left(n - 2\\right) + \\frac{1}{2} \\left(n - 2\\right) \\left(n - 1\\right)$$"
      ],
      "text/plain": [
       "n⋅(n - 1)   (n - 9)⋅(n - 8)   (n - 8)⋅(n - 7)   (n - 7)⋅(n - 6)   (n - 6)⋅(n -\n",
       "───────── + ─────────────── + ─────────────── + ─────────────── + ────────────\n",
       "    2              2                 2                 2                 2    \n",
       "\n",
       " 5)   (n - 5)⋅(n - 4)   (n - 4)⋅(n - 3)   (n - 3)⋅(n - 2)   (n - 2)⋅(n - 1)\n",
       "─── + ─────────────── + ─────────────── + ─────────────── + ───────────────\n",
       "             2                 2                 2                 2       "
      ]
     },
     "metadata": {},
     "output_type": "display_data"
    },
    {
     "name": "stdout",
     "output_type": "stream",
     "text": [
      "120.0\n"
     ]
    }
   ],
   "source": [
    "def squaredBot(x,displaySymbolic=True,simplify=False):\n",
    "    gaussFn = lambda n:(n*(n+1))/2 \n",
    "\n",
    "    nLs = []\n",
    "    symbolicRes = gaussFn(0)\n",
    "    n = sp.symbols('n')\n",
    "    nCap = x+1\n",
    "    \n",
    "    for f in range(1,nCap):\n",
    "        symbolicRes+=gaussFn(n-f)\n",
    "    \n",
    "    if displaySymbolic:\n",
    "        if simplify:\n",
    "            display(sp.simplify(symbolicRes))\n",
    "        else:\n",
    "            display(symbolicRes)\n",
    "        \n",
    "    return lambdify(n,symbolicRes)(x)\n",
    "\n",
    "for i in range(1,10):\n",
    "    print(squaredBot(i,simplify=False))"
   ]
  },
  {
   "cell_type": "code",
   "execution_count": 725,
   "metadata": {},
   "outputs": [
    {
     "name": "stdout",
     "output_type": "stream",
     "text": [
      "20.0\n"
     ]
    }
   ],
   "source": [
    "def recCont(n):\n",
    "    return recF(n+1)/2\n",
    "\n",
    "def recF(n):\n",
    "    if n <= 2:\n",
    "        return n\n",
    "    else:\n",
    "        #print(n,n-1)\n",
    "        return recF(n-1)+n*(n-1)\n",
    "    \n",
    "print(recCont(4))"
   ]
  },
  {
   "cell_type": "code",
   "execution_count": 733,
   "metadata": {
    "collapsed": true
   },
   "outputs": [],
   "source": [
    "def nfunc(n):\n",
    "    return (n**4+2*n**3+3*n**2+2*n)"
   ]
  },
  {
   "cell_type": "code",
   "execution_count": 734,
   "metadata": {},
   "outputs": [
    {
     "name": "stdout",
     "output_type": "stream",
     "text": [
      "8\n",
      "48\n",
      "168\n",
      "440\n",
      "960\n",
      "1848\n",
      "3248\n",
      "5328\n",
      "8280\n"
     ]
    }
   ],
   "source": [
    "for i in range(1,10):\n",
    "    print(nfunc(i))"
   ]
  },
  {
   "cell_type": "code",
   "execution_count": 633,
   "metadata": {},
   "outputs": [
    {
     "name": "stdout",
     "output_type": "stream",
     "text": [
      "-0.5\n",
      "1.0\n",
      "6.5\n",
      "18.0\n",
      "37.5\n",
      "67.0\n",
      "108.5\n",
      "164.0\n"
     ]
    }
   ],
   "source": [
    "def tstFn(x):\n",
    "    return (x**3)/2 + (x*(x+2))/2 - (x*3)/2\n",
    "\n",
    "for i in range(1,9):\n",
    "    print(tstFn(i)-squaredBot(i,displaySymbolic=False))"
   ]
  },
  {
   "cell_type": "code",
   "execution_count": null,
   "metadata": {
    "collapsed": true
   },
   "outputs": [],
   "source": []
  },
  {
   "cell_type": "code",
   "execution_count": 547,
   "metadata": {},
   "outputs": [
    {
     "data": {
      "image/png": "[encoded data removed]",
      "text/plain": [
       "<matplotlib.figure.Figure at 0x17c1d7f57f0>"
      ]
     },
     "metadata": {},
     "output_type": "display_data"
    }
   ],
   "source": [
    "ys = np.array([0,2,8,20,40,70,112,168,240])\n",
    "xs = np.array([1,2,3,4,5,6,7,8,9])\n",
    "\n",
    "plt.figure(figsize=(10,10))\n",
    "plt.plot(xs,ys)\n",
    "plt.show()\n"
   ]
  },
  {
   "cell_type": "code",
   "execution_count": 582,
   "metadata": {},
   "outputs": [
    {
     "data": {
      "text/latex": [
       "$$\\left \\{ a : 3, \\quad b : -9, \\quad c : 8\\right \\}$$"
      ],
      "text/plain": [
       "{a: 3, b: -9, c: 8}"
      ]
     },
     "execution_count": 582,
     "metadata": {},
     "output_type": "execute_result"
    }
   ],
   "source": [
    "a,b,c = sp.symbols('a b c')\n",
    "#system = Matrix(( (9, 3, 1,8), (16, 4, 1,20),(25,5,1,40),(36,6,1,70)))\n",
    "system = Matrix(( (16, 4, 1,20),(25,5,1,40),(36,6,1,70)))\n",
    "a = [sp.Eq(a*4+b*2+c,2),sp.Eq(a*9+b*3+c,8),sp.Eq(a*16+b*4+c,20)]\n",
    "sp.solve(a)"
   ]
  },
  {
   "cell_type": "code",
   "execution_count": null,
   "metadata": {
    "collapsed": true
   },
   "outputs": [],
   "source": []
  },
  {
   "cell_type": "markdown",
   "metadata": {},
   "source": [
    "## Using sympy"
   ]
  },
  {
   "cell_type": "code",
   "execution_count": null,
   "metadata": {
    "collapsed": true
   },
   "outputs": [],
   "source": [
    "$$\n",
    "\\large\\sum_{i=1}^{n}{i-\\frac{1}{2}}=\\frac{n^2}{2}  \n",
    "$$\n"
   ]
  },
  {
   "cell_type": "code",
   "execution_count": 384,
   "metadata": {},
   "outputs": [
    {
     "data": {
      "image/png": "[encoded data removed]",
      "text/latex": [
       "$$45$$"
      ],
      "text/plain": [
       "45"
      ]
     },
     "execution_count": 384,
     "metadata": {},
     "output_type": "execute_result"
    }
   ],
   "source": [
    "165 - 120"
   ]
  },
  {
   "cell_type": "code",
   "execution_count": null,
   "metadata": {
    "collapsed": true
   },
   "outputs": [],
   "source": [
    " I'm interested in exploring various matricies and their relationship to the gaussian closed form."
   ]
  }
 ],
 "metadata": {
  "kernelspec": {
   "display_name": "Python 3",
   "language": "python",
   "name": "python3"
  },
  "language_info": {
   "codemirror_mode": {
    "name": "ipython",
    "version": 3
   },
   "file_extension": ".py",
   "mimetype": "text/x-python",
   "name": "python",
   "nbconvert_exporter": "python",
   "pygments_lexer": "ipython3",
   "version": "3.5.3"
  }
 },
 "nbformat": 4,
 "nbformat_minor": 2
}
