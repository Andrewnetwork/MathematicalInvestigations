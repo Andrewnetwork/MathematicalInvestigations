{
 "cells": [
  {
   "cell_type": "markdown",
   "metadata": {},
   "source": [
    "<center>\n",
    "    <h1>Automata Seedlings</h1>\n",
    "    <h2>Andrew Ribeiro</h2>\n",
    "    <h3>July 21, 2016</h3>\n",
    "</center>"
   ]
  },
  {
   "cell_type": "markdown",
   "metadata": {},
   "source": [
    "<center> A new way of looking at one-shot machine learning. What's it like to become something? It is as it permiates me.</center>\n",
    "<hr />\n"
   ]
  },
  {
   "cell_type": "code",
   "execution_count": 48,
   "metadata": {
    "collapsed": true
   },
   "outputs": [],
   "source": [
    "import numpy as np\n",
    "import matplotlib.pyplot as plt\n",
    "import networkx as nx"
   ]
  },
  {
   "cell_type": "markdown",
   "metadata": {},
   "source": [
    "Ordering/Naming convention: From left to right, top to bottom."
   ]
  },
  {
   "cell_type": "code",
   "execution_count": 7,
   "metadata": {
    "collapsed": false
   },
   "outputs": [],
   "source": [
    "A = np.matrix('0 1 0 0;\\\n",
    "               1 1 1 1;\\\n",
    "               0 1 0 1')\n",
    "\n",
    "B = np.matrix('0 1 1;\\\n",
    "               1 1 0')\n",
    "\n",
    "A_named = np.matrix('0 2 0 0;\\\n",
    "                     1 3 5 6;\\\n",
    "                     0 4 0 7')\n",
    "\n",
    "B_named = np.matrix('0 2 4;\\\n",
    "                     1 3 0')"
   ]
  },
  {
   "cell_type": "code",
   "execution_count": 288,
   "metadata": {
    "collapsed": false
   },
   "outputs": [],
   "source": [
    "class Tree: \n",
    "    identity = None\n",
    "    children = []\n",
    "    \n",
    "    def nChildren(self):\n",
    "        len(children)\n",
    "        \n",
    "    def addChild(self, child):\n",
    "        self.children.append(child)\n",
    "        \n",
    "    # Find the parent node and add the child. \n",
    "    def addChildToNode(self, parent, child):\n",
    "        found = False\n",
    "        \n",
    "        for chld in self.children:\n",
    "            # If we found the child that is the parent being added to. \n",
    "            if chld.identity == parent.identity:\n",
    "                chld.addChild(child)\n",
    "                found = True\n",
    "                break\n",
    "                \n",
    "        if not found: \n",
    "            # None of our children are the parent. Search our childrent's \n",
    "            # children for the parent of this orphan child. \n",
    "            for chld in children:\n",
    "                self.addChildToNode(chld, child)\n",
    "                \n",
    "    def __init__(self,ident):\n",
    "        self.setI(ident)\n",
    "    \n",
    "    def setI(self, ident):\n",
    "        self.identity = ident\n",
    "\n",
    "class Node:\n",
    "    identity = None\n",
    "    children = []\n",
    "    \n",
    "    def __init__(self,ident):\n",
    "        self.setI(ident)\n",
    "        \n",
    "    def setI(self, ident):\n",
    "        self.identity = ident\n",
    "        \n",
    "    def addChild(self, child):\n",
    "        self.children.append(Node(child))\n",
    "    \n",
    "    def append( self , child):\n",
    "        self.children.append(child)"
   ]
  },
  {
   "cell_type": "code",
   "execution_count": 133,
   "metadata": {
    "collapsed": true
   },
   "outputs": [],
   "source": [
    "a = Tree(1)\n",
    "a.addChild(Node(2))\n",
    "\n"
   ]
  },
  {
   "cell_type": "code",
   "execution_count": 134,
   "metadata": {
    "collapsed": false
   },
   "outputs": [
    {
     "ename": "SyntaxError",
     "evalue": "invalid syntax (<ipython-input-134-5957d712d9c7>, line 1)",
     "output_type": "error",
     "traceback": [
      "\u001b[0;36m  File \u001b[0;32m\"<ipython-input-134-5957d712d9c7>\"\u001b[0;36m, line \u001b[0;32m1\u001b[0m\n\u001b[0;31m    def printNode:\u001b[0m\n\u001b[0m                 ^\u001b[0m\n\u001b[0;31mSyntaxError\u001b[0m\u001b[0;31m:\u001b[0m invalid syntax\n"
     ]
    }
   ],
   "source": [
    "def printNode:\n",
    "    None"
   ]
  },
  {
   "cell_type": "code",
   "execution_count": 323,
   "metadata": {
    "collapsed": false
   },
   "outputs": [],
   "source": [
    "\n",
    "    \n",
    "def mapTopology(matrix, startingNode):\n",
    "    False\n",
    "\n",
    "def walkMatrix( matrix ,parentRow,parentCol, location):\n",
    "    t = Node(matrix[location])\n",
    "    \n",
    "    print( matrix[location] )\n",
    "    \n",
    "    return t  \n",
    "\n",
    "def adjacentNodes( matrix, location ):\n",
    "    \n",
    "    element = matrix[location]\n",
    "    \n",
    "    row = location[0]\n",
    "    col = location[1]\n",
    "    \n",
    "    maxRows = matrix.shape[0]\n",
    "    maxCols = matrix.shape[1]\n",
    "    \n",
    "    if element > 0: \n",
    "        t = Node( element )\n",
    "        ## Find Adjacency ##\n",
    "\n",
    "        # Left\n",
    "        if (col-1) >= 0  and (row-1) >= 0 and matrix[row-1,col-1] > 0:\n",
    "            # Left Top \n",
    "            t.addChild( walkMatrix(matrix, row, col, (row-1,col-1) ) )\n",
    "        if (col-1) >= 0 and matrix[row,col-1] > 0:\n",
    "            # Left Middle\n",
    "            t.addChild( walkMatrix(matrix, row, col, (row,col-1) ) )\n",
    "        if (col-1) >= 0 and (row+1) < maxRows and matrix[row+1,col-1] > 0:\n",
    "            # Left Bottom\n",
    "            t.addChild(walkMatrix(matrix,row, col, (row+1,col-1)))\n",
    "\n",
    "        # Middle\n",
    "        if (row-1) >=0 and matrix[row-1,col] > 0:\n",
    "            # Up\n",
    "            t.addChild( walkMatrix(matrix,row, col, (row-1,col)) )\n",
    "        if (row+1) < maxRows and matrix[row+1,col] > 0:\n",
    "            # Down\n",
    "            t.addChild( walkMatrix(matrix,row, col, (row+1,col)) )\n",
    "\n",
    "        # Right \n",
    "        if  (col+1) < maxCols  and (row-1) >= 0 and matrix[row-1,col+1] > 0:\n",
    "            # Right Top \n",
    "            t.addChild( walkMatrix(matrix,row, col, (row-1,col+1)) )\n",
    "        if  (col+1) < maxCols and matrix[row,col+1] > 0:\n",
    "            # Right Middle\n",
    "            t.addChild( walkMatrix(matrix,row, col, (row,col+1)) )\n",
    "        if (col+1) < maxCols and (row+1) < maxRows and matrix[row+1,col+1] > 0:\n",
    "            # Right Bottom\n",
    "            t.addChild(walkMatrix(matrix,row, col, (row+1,col+1)))\n",
    "        \n",
    "        return t\n",
    "    \n",
    "    \n",
    "# adjacencyConnectedNodes (ACN)\n",
    "def ACN( matrix ):\n",
    "    # Itterate through by column. \n",
    "    \n",
    "    maxRows = matrix.shape[0]\n",
    "    maxCols = matrix.shape[1]\n",
    "    nodes = []\n",
    "    \n",
    "    for col in range( maxCols ):\n",
    "        for row in range( maxRows ):\n",
    "            \n",
    "            element = matrix[row,col]\n",
    "            \n",
    "            # Make sure it's not a blank cell\"and matrix[row,col] > 0\"\n",
    "            # Add adjacent nodes from top left to bottom right. \n",
    "            if element > 0: \n",
    "                print(\"Parent Tree: \"+str( element ) )\n",
    "                \n",
    "                ## Find Adjacency ##\n",
    "                nodes.append( adjacentNodes(matrix, (row,col)) )\n",
    "            \n",
    "    return nodes"
   ]
  },
  {
   "cell_type": "code",
   "execution_count": 322,
   "metadata": {
    "collapsed": false
   },
   "outputs": [
    {
     "name": "stdout",
     "output_type": "stream",
     "text": [
      "[[0 2 4]\n",
      " [1 3 0]]\n",
      "Parent Tree: 1\n",
      "2\n",
      "3\n",
      "Parent Tree: 2\n",
      "1\n",
      "3\n",
      "4\n",
      "Parent Tree: 3\n",
      "1\n",
      "2\n",
      "4\n",
      "Parent Tree: 4\n",
      "2\n",
      "3\n",
      "Length of : 4\n"
     ]
    }
   ],
   "source": [
    "print(B_named )\n",
    "\n",
    "b= ACN(B_named)\n",
    "\n",
    "print( \"Length of : \"+ str( len(b) ) );\n",
    "\n",
    "## 00 -> 10 -> 01 -> 11"
   ]
  },
  {
   "cell_type": "code",
   "execution_count": 314,
   "metadata": {
    "collapsed": false
   },
   "outputs": [
    {
     "name": "stdout",
     "output_type": "stream",
     "text": [
      "[[0 2 0 0]\n",
      " [1 3 5 6]\n",
      " [0 4 0 7]]\n",
      "Parent Tree: 1\n",
      "2\n",
      "3\n",
      "4\n",
      "Parent Tree: 2\n",
      "1\n",
      "3\n",
      "5\n",
      "Parent Tree: 3\n",
      "1\n",
      "2\n",
      "4\n",
      "5\n",
      "Parent Tree: 4\n",
      "1\n",
      "3\n",
      "5\n",
      "Parent Tree: 5\n",
      "2\n",
      "3\n",
      "4\n",
      "6\n",
      "7\n",
      "Parent Tree: 6\n",
      "5\n",
      "7\n",
      "Parent Tree: 7\n",
      "5\n",
      "6\n",
      "Length of : 7\n"
     ]
    }
   ],
   "source": [
    "print(A_named)\n",
    "a = ACN(A_named)\n",
    "\n",
    "print( \"Length of : \"+ str( len(a) ) );"
   ]
  },
  {
   "cell_type": "code",
   "execution_count": 319,
   "metadata": {
    "collapsed": false
   },
   "outputs": [
    {
     "data": {
      "text/plain": [
       "[<__main__.Node instance at 0x10b4ca440>,\n",
       " <__main__.Node instance at 0x10b4caa70>,\n",
       " <__main__.Node instance at 0x10b4ca8c0>,\n",
       " <__main__.Node instance at 0x10b4ca758>,\n",
       " <__main__.Node instance at 0x10b4ca680>,\n",
       " <__main__.Node instance at 0x10b4ca128>,\n",
       " <__main__.Node instance at 0x10b4ca9e0>,\n",
       " <__main__.Node instance at 0x10b4cab90>,\n",
       " <__main__.Node instance at 0x10b4ca1b8>,\n",
       " <__main__.Node instance at 0x10b4cacf8>,\n",
       " <__main__.Node instance at 0x10b429fc8>,\n",
       " <__main__.Node instance at 0x10b4ca320>,\n",
       " <__main__.Node instance at 0x10b419e60>,\n",
       " <__main__.Node instance at 0x10b419cf8>,\n",
       " <__main__.Node instance at 0x10b419d88>,\n",
       " <__main__.Node instance at 0x10b419d40>,\n",
       " <__main__.Node instance at 0x10b419488>,\n",
       " <__main__.Node instance at 0x10b2e20e0>,\n",
       " <__main__.Node instance at 0x10b4b2320>,\n",
       " <__main__.Node instance at 0x10b4b2290>,\n",
       " <__main__.Node instance at 0x10b4b2440>,\n",
       " <__main__.Node instance at 0x10b4b23f8>,\n",
       " <__main__.Node instance at 0x10b4b2050>,\n",
       " <__main__.Node instance at 0x10b4b2200>,\n",
       " <__main__.Node instance at 0x10b4b2170>,\n",
       " <__main__.Node instance at 0x10b4b24d0>,\n",
       " <__main__.Node instance at 0x10b4b2518>,\n",
       " <__main__.Node instance at 0x10b4b2830>,\n",
       " <__main__.Node instance at 0x10b4b26c8>,\n",
       " <__main__.Node instance at 0x10b499098>,\n",
       " <__main__.Node instance at 0x10b499e18>,\n",
       " <__main__.Node instance at 0x10b499ea8>]"
      ]
     },
     "execution_count": 319,
     "metadata": {},
     "output_type": "execute_result"
    }
   ],
   "source": [
    "a[1].children"
   ]
  },
  {
   "cell_type": "code",
   "execution_count": 320,
   "metadata": {
    "collapsed": false
   },
   "outputs": [
    {
     "name": "stdout",
     "output_type": "stream",
     "text": [
      "[[0 2 0 0]\n",
      " [1 3 5 6]\n",
      " [0 4 0 7]]\n",
      "Parent Identity: 1\n",
      "<__main__.Node instance at 0x10b4242d8>\n",
      "<__main__.Node instance at 0x10b4cab48>\n",
      "<__main__.Node instance at 0x10b4ca950>\n",
      "<__main__.Node instance at 0x10b4ca4d0>\n",
      "<__main__.Node instance at 0x10b4cadd0>\n",
      "<__main__.Node instance at 0x10b4ca248>\n",
      "<__main__.Node instance at 0x10b4caef0>\n",
      "<__main__.Node instance at 0x10b4ca170>\n",
      "<__main__.Node instance at 0x10b4ca050>\n",
      "<__main__.Node instance at 0x10b4cac20>\n",
      "<__main__.Node instance at 0x10b4290e0>\n",
      "<__main__.Node instance at 0x10b4293b0>\n",
      "<__main__.Node instance at 0x10b419ef0>\n",
      "<__main__.Node instance at 0x10b419ea8>\n",
      "<__main__.Node instance at 0x10b419cb0>\n",
      "<__main__.Node instance at 0x10b419dd0>\n",
      "<__main__.Node instance at 0x10b419fc8>\n",
      "<__main__.Node instance at 0x10b4193b0>\n",
      "<__main__.Node instance at 0x10b4b25f0>\n",
      "<__main__.Node instance at 0x10b4b2248>\n",
      "<__main__.Node instance at 0x10b4b2488>\n",
      "<__main__.Node instance at 0x10b4b23b0>\n",
      "<__main__.Node instance at 0x10b4b2368>\n",
      "<__main__.Node instance at 0x10b4b2098>\n",
      "<__main__.Node instance at 0x10b4b20e0>\n",
      "<__main__.Node instance at 0x10b4b21b8>\n",
      "<__main__.Node instance at 0x10b4b2560>\n",
      "<__main__.Node instance at 0x10b4b25a8>\n",
      "<__main__.Node instance at 0x10b4b27a0>\n",
      "<__main__.Node instance at 0x10b4990e0>\n",
      "<__main__.Node instance at 0x10b499dd0>\n",
      "<__main__.Node instance at 0x10b499e60>\n"
     ]
    }
   ],
   "source": [
    "print(A_named)\n",
    "print(\"Parent Identity: \"+str(a[0].identity) )\n",
    "for c in a[1].children:\n",
    "    print( c.identity )"
   ]
  },
  {
   "cell_type": "code",
   "execution_count": 295,
   "metadata": {
    "collapsed": false
   },
   "outputs": [
    {
     "name": "stdout",
     "output_type": "stream",
     "text": [
      "[[0 2 4]\n",
      " [1 3 0]]\n",
      "0\n",
      "1\n",
      "2\n",
      "3\n",
      "4\n",
      "0\n"
     ]
    }
   ],
   "source": [
    "print(B_named )\n",
    "\n",
    "maxCols = 3\n",
    "maxRows = 2\n",
    "\n",
    "for col in range( maxCols ):\n",
    "        for row in range( maxRows ):\n",
    "            print( B_named[row,col] )\n",
    "            "
   ]
  },
  {
   "cell_type": "code",
   "execution_count": 294,
   "metadata": {
    "collapsed": false
   },
   "outputs": [
    {
     "data": {
      "text/plain": [
       "[<__main__.Node instance at 0x10b429128>,\n",
       " <__main__.Node instance at 0x10b4294d0>,\n",
       " <__main__.Node instance at 0x10b429e60>,\n",
       " <__main__.Node instance at 0x10b429638>,\n",
       " <__main__.Node instance at 0x10b4299e0>,\n",
       " <__main__.Node instance at 0x10b4f7758>,\n",
       " <__main__.Node instance at 0x10b43fbd8>,\n",
       " <__main__.Node instance at 0x10b43f6c8>,\n",
       " <__main__.Node instance at 0x10b43fb90>,\n",
       " <__main__.Node instance at 0x10b43f5f0>,\n",
       " <__main__.Node instance at 0x10b43fc20>,\n",
       " <__main__.Node instance at 0x10b43fe18>,\n",
       " <__main__.Node instance at 0x10b43f830>,\n",
       " <__main__.Node instance at 0x10b43f2d8>,\n",
       " <__main__.Node instance at 0x10b43fa70>,\n",
       " <__main__.Node instance at 0x10b43fd40>,\n",
       " <__main__.Node instance at 0x10b43f7e8>,\n",
       " <__main__.Node instance at 0x10b43f908>,\n",
       " <__main__.Node instance at 0x10b43fa28>,\n",
       " <__main__.Node instance at 0x10b43f710>,\n",
       " <__main__.Node instance at 0x10b443950>,\n",
       " <__main__.Node instance at 0x10b41a1b8>,\n",
       " <__main__.Node instance at 0x10b41ab90>,\n",
       " <__main__.Node instance at 0x10b41a0e0>,\n",
       " <__main__.Node instance at 0x10b41a488>,\n",
       " <__main__.Node instance at 0x10b41a3f8>,\n",
       " <__main__.Node instance at 0x10b41acf8>,\n",
       " <__main__.Node instance at 0x10b41a050>,\n",
       " <__main__.Node instance at 0x10b41a5f0>,\n",
       " <__main__.Node instance at 0x10b41a518>,\n",
       " <__main__.Node instance at 0x10b41a4d0>,\n",
       " <__main__.Node instance at 0x10b41ac68>]"
      ]
     },
     "execution_count": 294,
     "metadata": {},
     "output_type": "execute_result"
    }
   ],
   "source": [
    "a[0].children"
   ]
  },
  {
   "cell_type": "code",
   "execution_count": 188,
   "metadata": {
    "collapsed": false
   },
   "outputs": [
    {
     "data": {
      "text/plain": [
       "[0, 1]"
      ]
     },
     "execution_count": 188,
     "metadata": {},
     "output_type": "execute_result"
    }
   ],
   "source": [
    "range(2)"
   ]
  },
  {
   "cell_type": "code",
   "execution_count": 24,
   "metadata": {
    "collapsed": false
   },
   "outputs": [
    {
     "data": {
      "text/plain": [
       "(2, 3)"
      ]
     },
     "execution_count": 24,
     "metadata": {},
     "output_type": "execute_result"
    }
   ],
   "source": [
    "B_named.shape"
   ]
  },
  {
   "cell_type": "code",
   "execution_count": 36,
   "metadata": {
    "collapsed": false
   },
   "outputs": [
    {
     "name": "stdout",
     "output_type": "stream",
     "text": [
      "[[0]]\n",
      "[[1]]\n",
      "[[2]]\n",
      "[[3]]\n",
      "[[4]]\n",
      "[[0]]\n"
     ]
    }
   ],
   "source": [
    "produceGraphs1( B_named )"
   ]
  },
  {
   "cell_type": "code",
   "execution_count": 34,
   "metadata": {
    "collapsed": false
   },
   "outputs": [
    {
     "name": "stdout",
     "output_type": "stream",
     "text": [
      "[[0 2 4]\n",
      " [1 3 0]]\n"
     ]
    }
   ],
   "source": [
    "print(B_named\n",
    "     )"
   ]
  },
  {
   "cell_type": "code",
   "execution_count": 35,
   "metadata": {
    "collapsed": false
   },
   "outputs": [
    {
     "name": "stdout",
     "output_type": "stream",
     "text": [
      "[[0 2 0 0]\n",
      " [1 3 5 6]\n",
      " [0 4 0 7]]\n"
     ]
    }
   ],
   "source": [
    "print(A_named)"
   ]
  },
  {
   "cell_type": "code",
   "execution_count": 63,
   "metadata": {
    "collapsed": false
   },
   "outputs": [
    {
     "data": {
      "text/plain": [
       "1"
      ]
     },
     "execution_count": 63,
     "metadata": {},
     "output_type": "execute_result"
    }
   ],
   "source": [
    "A_named[1,0]"
   ]
  },
  {
   "cell_type": "code",
   "execution_count": 38,
   "metadata": {
    "collapsed": true
   },
   "outputs": [],
   "source": [
    "a.append(3\n",
    "        )"
   ]
  },
  {
   "cell_type": "code",
   "execution_count": 39,
   "metadata": {
    "collapsed": false
   },
   "outputs": [
    {
     "data": {
      "text/plain": [
       "[3]"
      ]
     },
     "execution_count": 39,
     "metadata": {},
     "output_type": "execute_result"
    }
   ],
   "source": [
    "a\n"
   ]
  },
  {
   "cell_type": "code",
   "execution_count": 152,
   "metadata": {
    "collapsed": false
   },
   "outputs": [],
   "source": [
    "a = 1\n",
    "a+= 1"
   ]
  },
  {
   "cell_type": "code",
   "execution_count": 41,
   "metadata": {
    "collapsed": false
   },
   "outputs": [
    {
     "ename": "NameError",
     "evalue": "name 'Nil' is not defined",
     "output_type": "error",
     "traceback": [
      "\u001b[0;31m---------------------------------------------------------------------------\u001b[0m",
      "\u001b[0;31mNameError\u001b[0m                                 Traceback (most recent call last)",
      "\u001b[0;32m<ipython-input-41-e3f9fa872ac9>\u001b[0m in \u001b[0;36m<module>\u001b[0;34m()\u001b[0m\n\u001b[0;32m----> 1\u001b[0;31m \u001b[0mNil\u001b[0m\u001b[0;34m\u001b[0m\u001b[0m\n\u001b[0m",
      "\u001b[0;31mNameError\u001b[0m: name 'Nil' is not defined"
     ]
    }
   ],
   "source": [
    "Nil"
   ]
  },
  {
   "cell_type": "code",
   "execution_count": 56,
   "metadata": {
    "collapsed": false
   },
   "outputs": [
    {
     "data": {
      "text/plain": [
       "False"
      ]
     },
     "execution_count": 56,
     "metadata": {},
     "output_type": "execute_result"
    }
   ],
   "source": [
    "not True"
   ]
  },
  {
   "cell_type": "code",
   "execution_count": null,
   "metadata": {
    "collapsed": true
   },
   "outputs": [],
   "source": []
  }
 ],
 "metadata": {
  "kernelspec": {
   "display_name": "Python 2",
   "language": "python",
   "name": "python2"
  },
  "language_info": {
   "codemirror_mode": {
    "name": "ipython",
    "version": 2
   },
   "file_extension": ".py",
   "mimetype": "text/x-python",
   "name": "python",
   "nbconvert_exporter": "python",
   "pygments_lexer": "ipython2",
   "version": "2.7.10"
  }
 },
 "nbformat": 4,
 "nbformat_minor": 0
}
