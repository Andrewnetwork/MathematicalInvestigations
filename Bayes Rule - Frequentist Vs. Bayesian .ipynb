{
 "cells": [
  {
   "cell_type": "code",
   "execution_count": 2,
   "metadata": {},
   "outputs": [
    {
     "name": "stdout",
     "output_type": "stream",
     "text": [
      "0.503778337531485\n"
     ]
    }
   ],
   "source": [
    "userPercentage = 0.005\n",
    "specific = 0.995\n",
    "sensitive = 0.99\n",
    "\n",
    "n = 100\n",
    "users = userPercentage*n\n",
    "non_users = n-users\n",
    "\n",
    "truePos_users = users*sensitive\n",
    "trueNeg_non = non_users*specific\n",
    "\n",
    "falsePos = (non_users-trueNeg_non)\n",
    "falseNegative = (users-truePos_users)\n",
    "print(users/((users-falseNegative)+falsePos))"
   ]
  },
  {
   "cell_type": "code",
   "execution_count": null,
   "metadata": {},
   "outputs": [],
   "source": []
  }
 ],
 "metadata": {
  "kernelspec": {
   "display_name": "Python 3",
   "language": "python",
   "name": "python3"
  },
  "language_info": {
   "codemirror_mode": {
    "name": "ipython",
    "version": 3
   },
   "file_extension": ".py",
   "mimetype": "text/x-python",
   "name": "python",
   "nbconvert_exporter": "python",
   "pygments_lexer": "ipython3",
   "version": "3.6.2"
  }
 },
 "nbformat": 4,
 "nbformat_minor": 2
}
