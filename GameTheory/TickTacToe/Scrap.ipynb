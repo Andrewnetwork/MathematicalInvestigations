{
 "cells": [
  {
   "cell_type": "code",
   "execution_count": null,
   "metadata": {},
   "outputs": [],
   "source": [
    "z = Grid(3,3)\n",
    "currentPath = []\n",
    "longestPath = []\n",
    "currentPathOps = []\n",
    "longestPathOps = []\n",
    "\n",
    "filterNum = 7\n",
    "filterLs = []\n",
    "\n",
    "for i in range(1000000):\n",
    "    roll = randint(1,4)\n",
    "    if roll == 1:\n",
    "        z.H()\n",
    "        currentPathOps.append(\"H\")\n",
    "    elif roll == 2:\n",
    "        z.V()\n",
    "        currentPathOps.append(\"V\")\n",
    "    elif roll == 3:\n",
    "        z.D()\n",
    "        currentPathOps.append(\"D\")\n",
    "    else:\n",
    "        z.C()\n",
    "        currentPathOps.append(\"C\")\n",
    "    \n",
    "    addToCurrent = True\n",
    "    \n",
    "    for i in currentPath:\n",
    "        if i == z.labelVec:\n",
    "            # We have reached a redundancy.\n",
    "            if(len(currentPath)>len(longestPath)):\n",
    "                # We have found the longest path so far.\n",
    "                # Pop the redundant path and add to longest path. \n",
    "                currentPath.pop()\n",
    "                del currentPathOps[-2:]\n",
    "                \n",
    "                longestPath = currentPath\n",
    "                longestPathOps = currentPathOps\n",
    "                \n",
    "            \n",
    "                if(len(currentPath) == filterNum):\n",
    "                    filterLs.append(currentPathOps)\n",
    "                \n",
    "            z = Grid(3,3)\n",
    "            currentPath = []\n",
    "            currentPathOps = []\n",
    "            addToCurrent = False\n",
    "    \n",
    "    if(addToCurrent):\n",
    "        currentPath.append(z.labelVec.copy())"
   ]
  }
 ],
 "metadata": {
  "kernelspec": {
   "display_name": "Python 3",
   "language": "python",
   "name": "python3"
  },
  "language_info": {
   "codemirror_mode": {
    "name": "ipython",
    "version": 3
   },
   "file_extension": ".py",
   "mimetype": "text/x-python",
   "name": "python",
   "nbconvert_exporter": "python",
   "pygments_lexer": "ipython3",
   "version": "3.6.4"
  }
 },
 "nbformat": 4,
 "nbformat_minor": 2
}
