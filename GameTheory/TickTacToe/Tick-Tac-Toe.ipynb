{
 "cells": [
  {
   "cell_type": "markdown",
   "metadata": {},
   "source": [
    "# Tick-Tac-Toe\n",
    "## Andrew Ribeiro \n",
    "## 11/2/2018\n",
    "![Source: https://en.wikipedia.org/wiki/Futile_game](ttg.png)\n",
    "In this notebook we will explore the classic game of Tick-Tac-Toe. It is a futile game, which means: if each player plays optimally, it will end in a draw. It is also a perfect information game: each opponent has complete knowledge of the state of the game. It also is a sequential game, which lends itself naturally to a tree-based representation. In addition, it is a game full of symmetry, which we will see is a key property of creating a represetation of the game where the complexity is reduced. \n",
    "\n",
    "## 0. Libraries"
   ]
  },
  {
   "cell_type": "code",
   "execution_count": 148,
   "metadata": {},
   "outputs": [],
   "source": [
    "import numpy as np\n",
    "import math\n",
    "from IPython.core.display import display, HTML"
   ]
  },
  {
   "cell_type": "markdown",
   "metadata": {},
   "source": [
    "## 1. Game Representation"
   ]
  },
  {
   "cell_type": "markdown",
   "metadata": {},
   "source": [
    "### 1.1. Rules\n",
    "\n",
    "Let's look at the rules that define Tick-Tac-Toe as they are customarily described: \n",
    "* A cell can either be empty, contain an X, or Y. All cells are initially empty. \n",
    "* The game board consists of 9 cells aranged in a 3x3 square. \n",
    "* A first player is selected. Players then take turns placing X's and Y's in the empty cells of the board until an end condition is met. \n",
    "* There are three end conditions: X wins, Y wins, draw. \n",
    "    * A draw is achieved when all cells are populated and neither win condition has been met. \n",
    "    * A win for either player is achieved if three of a players marks lie on a diagonal, row, or column. \n",
    "\n",
    "This description is sufficiently detailed to play the game, but for our purposes of modeling it, we need to translate the rules into mathematics. There are certain fixed decisions we've made in creating this game that we will consider as variables. We do this to see the game in its most general form, which will give us perspective on the particular instance of the game. \n",
    "\n",
    "\n",
    "The first of these parameters is the dimension of the board $D$. We have fixed $D = 3x3$ in the game of tick-tack-toe, but we can imagine various dimensions for the board. What if $D = 4x4$? Such a board would be consistent with the rules of the game, it would not lead to any rule becoming nonsensical. On the other hand, what if $D = 4x5$? We now have a rectangular board instead of a square. The win conditions of having peices placed along the rows or columns remain intact, but what about the diagonal win conditions? As we know, only square matricies have a diagonal. Therefore if $D$ is not a perfect square, one of our rules becomes nonsense. The diagonal rule talks about something that does not exist in rectangular squares. What about $D = 3x3x3$? Now our board is a three dimensional cube. Does this make any of our rules become non-sensical, as did our choice of a rectangular board? We could argue that a diagonal is still a valid object in the cube, but that there are just more of them in the cube. Namely we have a diagonal on every face of the cube and a diagonal through the center of the cube to each corner of the cube. What about $D = 3x3x3x3$? Our board is now a hypercube of four dimensions called a tesseract. Does a diagonal make sense in this board? This is where our intuition can break down and requires us to be more formal about how we define the win conditions of the game. \n",
    "\n",
    "#### The Board \n",
    "![](boardLabeling.png)\n",
    "We will label the cells of the board $[1,9]$. From the rules of the game, there are three types of cell grouping that interests us: column, row, and diagonal. Let $D=mxn$ be the dimension of the board, then we can define these sets of numbers by using set builder notation: \n",
    "\n",
    "* Row: $\\{ \\{a,b,c,\\ldots\\} \\mid (a = b + 1 = c + 2 = \\ldots + \\sqrt{D}-1) \\wedge (a = 1+k\\sqrt{D}) \\wedge (0 \\leq k \\leq d-\\sqrt{D}+1) \\}$\n",
    "* Column: $\\{ \\{f(s,1),f(s,2),f(s,3), \\ldots f(s,\\sqrt{D})\\} \\mid (1 \\leq n \\leq \\sqrt{D}) \\wedge  (1 \\leq s \\leq \\sqrt{D}) \\} \\text{  Where } f(s,n) = s + \\sqrt{D}(n-1)$\n",
    "* Diagonal: \n",
    "\n",
    "#### The Cells\n",
    "  \n",
    "The next parameter is the domain of the cell $C$. We have fixed $C = \\{∅,Y,X\\}$. \n",
    "\n",
    "#### The Game\n"
   ]
  },
  {
   "cell_type": "markdown",
   "metadata": {},
   "source": [
    "$\\{ \\{a,b,c\\} \\mid (a = b + 1 = c + 2) \\wedge (a = 1+k\\sqrt{D}) \\wedge (0 \\leq k \\leq D-\\sqrt{D}+1) \\}$"
   ]
  },
  {
   "cell_type": "code",
   "execution_count": 237,
   "metadata": {},
   "outputs": [],
   "source": [
    "def arithSeqs(start, step, maxVal, length):\n",
    "    res = []\n",
    "    for i in range(1,maxVal+1):\n",
    "        if(i+step*(length-1)>maxVal):\n",
    "            break;        \n",
    "        res.append(list(range(i,i+step*length,step)))\n",
    "    return res\n",
    "    "
   ]
  },
  {
   "cell_type": "code",
   "execution_count": 280,
   "metadata": {},
   "outputs": [
    {
     "name": "stdout",
     "output_type": "stream",
     "text": [
      "[[1, 2, 3, 4], [2, 3, 4, 5], [3, 4, 5, 6], [4, 5, 6, 7], [5, 6, 7, 8], [6, 7, 8, 9], [7, 8, 9, 10], [8, 9, 10, 11], [9, 10, 11, 12], [10, 11, 12, 13], [11, 12, 13, 14], [12, 13, 14, 15], [13, 14, 15, 16]]\n",
      "\n",
      "[[1, 3, 5, 7], [2, 4, 6, 8], [3, 5, 7, 9], [4, 6, 8, 10], [5, 7, 9, 11], [6, 8, 10, 12], [7, 9, 11, 13], [8, 10, 12, 14], [9, 11, 13, 15], [10, 12, 14, 16]]\n",
      "\n",
      "[[1, 4, 7, 10], [2, 5, 8, 11], [3, 6, 9, 12], [4, 7, 10, 13], [5, 8, 11, 14], [6, 9, 12, 15], [7, 10, 13, 16]]\n",
      "\n",
      "[[1, 5, 9, 13], [2, 6, 10, 14], [3, 7, 11, 15], [4, 8, 12, 16]]\n",
      "\n",
      "[[1, 6, 11, 16]]\n",
      "\n",
      "[]\n",
      "\n",
      "[]\n",
      "\n",
      "[]\n",
      "\n",
      "[]\n",
      "\n"
     ]
    }
   ],
   "source": [
    "for i in range(1,10):\n",
    "    print( arithSeqs(1,i,16,4))\n",
    "    print(\"\")"
   ]
  },
  {
   "cell_type": "code",
   "execution_count": 238,
   "metadata": {},
   "outputs": [
    {
     "data": {
      "text/plain": [
       "[[1, 5, 9]]"
      ]
     },
     "execution_count": 238,
     "metadata": {},
     "output_type": "execute_result"
    }
   ],
   "source": [
    "arithSeqs(1,4,9,3)"
   ]
  },
  {
   "cell_type": "code",
   "execution_count": null,
   "metadata": {},
   "outputs": [],
   "source": [
    "def columns(n):\n",
    "    squareDim = math.sqrt(n)\n",
    "    squareDim % 1 #1,4,7 | 2,5,8 | 3,6,9"
   ]
  },
  {
   "cell_type": "markdown",
   "metadata": {},
   "source": [
    "### 1.1. Tree Representation"
   ]
  },
  {
   "cell_type": "code",
   "execution_count": 276,
   "metadata": {},
   "outputs": [],
   "source": [
    "# Tick-Tac-Toe Cell \n",
    "class TTTCell:\n",
    "    def __init__(self):\n",
    "        self.CS = set([\"∅\",\"Y\",\"X\"])\n",
    "        self.CS_e,self.CS_v = self.enumMaps(self.CS) \n",
    "        self.n = len(self.CS)\n",
    "        self.state = \"∅\"\n",
    "    \n",
    "    # enumMap: [\"∅\",\"Y\",\"X\"] -> [0,1,2]\n",
    "    # valueMap: [0,1,2] -> [\"∅\",\"Y\",\"X\"]\n",
    "    def enumMaps(self,stateSet):\n",
    "        enumMap = dict(zip(list(stateSet),range(len(stateSet))))\n",
    "        valueMap = {v: k for k, v in enumMap.items()}\n",
    "        return (enumMap,valueMap)\n",
    "    \n",
    "    def stateEnum(self,state):\n",
    "        if type(state) is list:\n",
    "            return list(map(lambda x: self.CS_e[x], state))\n",
    "        else:\n",
    "            return self.CS_e[state]\n",
    "    \n",
    "    def stateValue(self,enum):\n",
    "        if type(enum) is list:\n",
    "            return list(map(lambda x: self.CS_v[x], enum))\n",
    "        else:\n",
    "            return self.CS_v[enum]\n",
    "    \n",
    "    def sample(self,n):\n",
    "        return list(map(lambda x: self.CS_v[x],list(np.random.randint(self.n, size=n))))\n",
    "    \n",
    "# Tick-Tac-Toe Board    \n",
    "class TTTBoard:\n",
    "    def isValidBoard(self, state):\n",
    "        # Piece ratio constraint. \n",
    "        pr = state.count(\"Y\") == (state.count(\"X\") + 1) or (state.count(\"Y\") + 1) == state.count(\"X\") \n",
    "        \n",
    "        # Win state constraint. \n",
    "        \n",
    "        \n",
    "        return pr\n",
    "        \n",
    "\n",
    "# Tick-Tac-Toe Game\n",
    "class TTTGame: \n",
    "    def __init__(self):\n",
    "        self.gameState = []\n",
    "        self.CS = set([\"∅\",\"Y\",\"X\"])\n",
    "        \n",
    "def displayBoard( state ):\n",
    "    table = \"<table>{0}</table>\"\n",
    "    row = \"<tr>{0}</tr>\"\n",
    "    cell = \"<td>{0}</td>\"\n",
    "    squareDim = math.sqrt(len(state))\n",
    "    \n",
    "    cells = \"\"\n",
    "    rows = \"\" \n",
    "    for i in range(len(state)):\n",
    "        cells += cell.format(state[i])\n",
    "        if(((i+1)%squareDim) == 0):\n",
    "            rows += row.format(cells)\n",
    "            cells = \"\"\n",
    "    \n",
    "    display(HTML(table.format(rows)))\n",
    "    \n",
    "def labelBoard( length,width ):\n",
    "    table = \"<table>{0}</table>\"\n",
    "    row = \"<tr>{0}</tr>\"\n",
    "    cell = \"<td>{0}</td>\"\n",
    "    \n",
    "    cells = \"\"\n",
    "    rows = \"\" \n",
    "    for i in range(1,length*width+1):\n",
    "        cells += cell.format(i)\n",
    "        if((i%width) == 0):\n",
    "            rows += row.format(cells)\n",
    "            cells = \"\"\n",
    "    \n",
    "    display(HTML(table.format(rows)))"
   ]
  },
  {
   "cell_type": "code",
   "execution_count": 277,
   "metadata": {},
   "outputs": [
    {
     "data": {
      "text/html": [
       "<table><tr><td>∅</td><td>∅</td><td>X</td></tr><tr><td>∅</td><td>Y</td><td>Y</td></tr><tr><td>Y</td><td>Y</td><td>∅</td></tr></table>"
      ],
      "text/plain": [
       "<IPython.core.display.HTML object>"
      ]
     },
     "metadata": {},
     "output_type": "display_data"
    },
    {
     "name": "stdout",
     "output_type": "stream",
     "text": [
      "Is this a valid board: False\n"
     ]
    }
   ],
   "source": [
    "c = TTTCell()\n",
    "b = TTTBoard()\n",
    "\n",
    "c9 = c.sample(9)\n",
    "displayBoard(c9)\n",
    "print(\"Is this a valid board: {0}\".format(b.isValidBoard(c9)))"
   ]
  },
  {
   "cell_type": "code",
   "execution_count": 278,
   "metadata": {},
   "outputs": [
    {
     "data": {
      "text/html": [
       "<table><tr><td>1</td><td>2</td><td>3</td><td>4</td></tr><tr><td>5</td><td>6</td><td>7</td><td>8</td></tr><tr><td>9</td><td>10</td><td>11</td><td>12</td></tr><tr><td>13</td><td>14</td><td>15</td><td>16</td></tr></table>"
      ],
      "text/plain": [
       "<IPython.core.display.HTML object>"
      ]
     },
     "metadata": {},
     "output_type": "display_data"
    }
   ],
   "source": [
    "labelBoard(4,4)"
   ]
  },
  {
   "cell_type": "code",
   "execution_count": 279,
   "metadata": {},
   "outputs": [
    {
     "data": {
      "text/html": [
       "<table><tr><td>1</td><td>2</td><td>3</td></tr><tr><td>4</td><td>5</td><td>6</td></tr><tr><td>7</td><td>8</td><td>9</td></tr></table>"
      ],
      "text/plain": [
       "<IPython.core.display.HTML object>"
      ]
     },
     "metadata": {},
     "output_type": "display_data"
    }
   ],
   "source": [
    "labelBoard(3,3)"
   ]
  },
  {
   "cell_type": "code",
   "execution_count": 281,
   "metadata": {},
   "outputs": [
    {
     "data": {
      "text/html": [
       "<table><tr><td>1</td><td>2</td><td>3</td><td>4</td><td>5</td></tr><tr><td>6</td><td>7</td><td>8</td><td>9</td><td>10</td></tr><tr><td>11</td><td>12</td><td>13</td><td>14</td><td>15</td></tr><tr><td>16</td><td>17</td><td>18</td><td>19</td><td>20</td></tr><tr><td>21</td><td>22</td><td>23</td><td>24</td><td>25</td></tr></table>"
      ],
      "text/plain": [
       "<IPython.core.display.HTML object>"
      ]
     },
     "metadata": {},
     "output_type": "display_data"
    }
   ],
   "source": [
    "labelBoard(5,5)"
   ]
  },
  {
   "cell_type": "code",
   "execution_count": 139,
   "metadata": {},
   "outputs": [
    {
     "data": {
      "text/plain": [
       "[1, 1, 0]"
      ]
     },
     "execution_count": 139,
     "metadata": {},
     "output_type": "execute_result"
    }
   ],
   "source": [
    "list(np.random.randint(3, size=3))"
   ]
  },
  {
   "cell_type": "code",
   "execution_count": 78,
   "metadata": {},
   "outputs": [],
   "source": [
    "CS_s = set([\"∅\",\"Y\",\"X\"])\n",
    "CS_v  = np.array(list(CS))\n",
    "count = np.arange(0,3)\n",
    "counts = [\"0\",\"1\",\"2\"]\n",
    "universe = np.zeros(9)\n",
    "\n",
    "def cartesianProd(a,b):\n",
    "    return np.transpose([np.tile(a, len(a)), np.repeat(b, len(b))])"
   ]
  },
  {
   "cell_type": "code",
   "execution_count": 51,
   "metadata": {},
   "outputs": [
    {
     "ename": "AttributeError",
     "evalue": "'list' object has no attribute 'T'",
     "output_type": "error",
     "traceback": [
      "\u001b[1;31m---------------------------------------------------------------------------\u001b[0m",
      "\u001b[1;31mAttributeError\u001b[0m                            Traceback (most recent call last)",
      "\u001b[1;32m<ipython-input-51-08c60609ebeb>\u001b[0m in \u001b[0;36m<module>\u001b[1;34m()\u001b[0m\n\u001b[1;32m----> 1\u001b[1;33m \u001b[0mnp\u001b[0m\u001b[1;33m.\u001b[0m\u001b[0mcross\u001b[0m\u001b[1;33m(\u001b[0m\u001b[0mcounts\u001b[0m\u001b[1;33m,\u001b[0m\u001b[0mcounts\u001b[0m\u001b[1;33m.\u001b[0m\u001b[0mT\u001b[0m\u001b[1;33m)\u001b[0m\u001b[1;33m\u001b[0m\u001b[0m\n\u001b[0m",
      "\u001b[1;31mAttributeError\u001b[0m: 'list' object has no attribute 'T'"
     ]
    }
   ],
   "source": [
    "np.cross(count,counts.T)"
   ]
  },
  {
   "cell_type": "code",
   "execution_count": 66,
   "metadata": {},
   "outputs": [
    {
     "data": {
      "text/plain": [
       "array([[0, 0],\n",
       "       [1, 0],\n",
       "       [2, 0],\n",
       "       [0, 1],\n",
       "       [1, 1],\n",
       "       [2, 1],\n",
       "       [0, 2],\n",
       "       [1, 2],\n",
       "       [2, 2]])"
      ]
     },
     "execution_count": 66,
     "metadata": {},
     "output_type": "execute_result"
    }
   ],
   "source": [
    "cartesianProd(count,count)"
   ]
  },
  {
   "cell_type": "code",
   "execution_count": 82,
   "metadata": {},
   "outputs": [],
   "source": [
    "def inject(universe,p,d):\n",
    "    u =  np.copy(universe);\n",
    "    u[p] = d\n",
    "    return u"
   ]
  },
  {
   "cell_type": "code",
   "execution_count": 83,
   "metadata": {},
   "outputs": [
    {
     "data": {
      "text/plain": [
       "array([0., 0., 0., 0., 3., 0., 0., 0., 0.])"
      ]
     },
     "execution_count": 83,
     "metadata": {},
     "output_type": "execute_result"
    }
   ],
   "source": [
    "inject(universe,4,3)"
   ]
  },
  {
   "cell_type": "code",
   "execution_count": 34,
   "metadata": {},
   "outputs": [],
   "source": [
    "CS = set([\"∅\",\"Y\",\"X\"])"
   ]
  },
  {
   "cell_type": "code",
   "execution_count": 42,
   "metadata": {},
   "outputs": [
    {
     "data": {
      "text/plain": [
       "{'X': 1, 'Y': 2, '∅': 0}"
      ]
     },
     "execution_count": 42,
     "metadata": {},
     "output_type": "execute_result"
    }
   ],
   "source": [
    "dict(zip(list(CS),range(len(CS))))"
   ]
  },
  {
   "cell_type": "code",
   "execution_count": null,
   "metadata": {},
   "outputs": [],
   "source": []
  }
 ],
 "metadata": {
  "kernelspec": {
   "display_name": "Python 3",
   "language": "python",
   "name": "python3"
  },
  "language_info": {
   "codemirror_mode": {
    "name": "ipython",
    "version": 3
   },
   "file_extension": ".py",
   "mimetype": "text/x-python",
   "name": "python",
   "nbconvert_exporter": "python",
   "pygments_lexer": "ipython3",
   "version": "3.6.2"
  }
 },
 "nbformat": 4,
 "nbformat_minor": 2
}
