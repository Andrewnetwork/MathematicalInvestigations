{
 "cells": [
  {
   "cell_type": "markdown",
   "metadata": {},
   "source": [
    " We will find that if we enumerate the arithmetic sequences of length three where each element is $x \\leq 9$ we will find that these rules lie in these groups. \n",
    "\n",
    "Let: $arith(s,i,n) = \\{s + 0i, s + 1i, \\ldots , s + in\\}$\n",
    "\n",
    "* $A = arith(s,1,3)$: [[1, 2, 3], [2, 3, 4], [3, 4, 5], [4, 5, 6], [5, 6, 7], [6, 7, 8], [7, 8, 9]]\n",
    "* $B = arith(s,2,3)$: [[1, 3, 5], [2, 4, 6], [3, 5, 7], [4, 6, 8], [5, 7, 9]]\n",
    "* $C = arith(s,3,3)$: [[1, 4, 7], [2, 5, 8], [3, 6, 9]]\n",
    "* $D = arith(s,4,3)$: [[1, 5, 9]]\n",
    "\n",
    "We see that set of numbers that are defined by the row rule is a subset of $A$. We can observe that only sequences in $A$ starting with 1,4,7 are valid rows. This so happens to be a member of the arithmetic sequence $C$. We can use this fact to eliminate all rules in $A$ that do not have a value in the arithmetic sequence in $C$ starting with 1. \n",
    "\n",
    "Now that we have the rows squared away, what about the columns? We can see that this is the set $C$. This poses an interesting question: given that the board is symmetric, why is it that the column rule is bijective to $C$, yet there is no equivalent arithmetic sequence that is bijective to the row rule? And further more, why is the information that is required to filter $A$ such that we get the row rule, is contained in the set that defines the column rule? I suspect that this asymmetry is significance, but I don't have an aparatus to explain the significance. \n",
    "\n",
    "Now what about the diagonal rule? We see that $D$ is one of the diagonals, but where is the other? We find that it is located in $B$. Only one of the members of $B$ is useful to us in defining our rules. I'd like to explore this more. It should also be noted that the row and colum rules are members of a single arithmetic sequence each. While the diagonal rule reaches across multiple sequeces. \n",
    "\n",
    "It turns out, the conundrum about $C$ is naturally from the way we've labeld our grid. The labeling from 1 to 9 from upper left to lower right is not a god given fact of the game, it is an artificial order we've imposed on it. Can we find another way of labeling such that the row rule and diagonal rule are given by an arithmetic sequence within the bounds of the board? \n",
    "\n",
    "The arithmetic sequences we've listed are what they are, that is a god given order we cannot avoid, but to the board position we assign to each number is up to us. As we see, the sets range in length: 7,5,3,1. If we wanted an arithmetic sequence that represented the diagonals, it would need to have two sets in it. We do not have a set of that magnitude. So no matter how we label the grid, we cannot have an arithmetic sequence represent the members of the diagonal set.\n",
    "\n",
    "What about the row set? We do have a set containing three sets, namely $C$, so we can certainly rewrite the board with sets being the labels for the three rows: \n",
    "![](boardLabeling.png)\n",
    "$$ -> $$\n",
    "![](altLabel.png)\n"
   ]
  },
  {
   "cell_type": "markdown",
   "metadata": {},
   "source": [
    "So what happened to the other sets? We see that this reassignment retained the same pattern as before, but now flipped for rows and columns. This swapping was simply a reflection over the diagonal ( but I did not arrive at this result by thinking about that type of transformation, it naturally popped out of the mathematics ). What about the reflection over the counter-diagonal?\n",
    "![](counterDiagonalSym.png)"
   ]
  },
  {
   "cell_type": "markdown",
   "metadata": {},
   "source": [
    "This is the fist translation we've seen where we do not arive at a labeling that contains all the valid groups as members of arithmetic sequences. If we look at just the rows, and list the numbers of each row in accending order, we get: [6,7,9],[2,5,8],[1,3,4]. There is some symmetry here. If we list the differences between each consecutive number , we get: [1,2],[3,3],[2,1]. Which we further note that the sums of each differences in the first row and third row equal the sum of differences in the second row. \n",
    "\n",
    "What about the columns? [3,8,9],[4,5,6], [1,2,7]. Again, listing the differences between each consecutive number, we get: [5,1],[1,1],[1,5]. This shares a simmilar symmetry, but also different. The differences of the first column is a transposition of the differences in the third column, but the middle column is not a sum of those differences. We can define this supposed shared symmetry as: [a,b][c,c][b,a]. Although the first can be written as: [a,b][a+b,a+b][b,a] and the second: [a,b][b,b][b,a]. \n",
    "\n",
    "What about the diagonals: [1,5,9],[3,5,7] -> [4,4],[2,2]. We "
   ]
  },
  {
   "cell_type": "markdown",
   "metadata": {},
   "source": []
  },
  {
   "cell_type": "code",
   "execution_count": null,
   "metadata": {},
   "outputs": [],
   "source": []
  }
 ],
 "metadata": {
  "kernelspec": {
   "display_name": "Python 3",
   "language": "python",
   "name": "python3"
  },
  "language_info": {
   "codemirror_mode": {
    "name": "ipython",
    "version": 3
   },
   "file_extension": ".py",
   "mimetype": "text/x-python",
   "name": "python",
   "nbconvert_exporter": "python",
   "pygments_lexer": "ipython3",
   "version": "3.6.2"
  }
 },
 "nbformat": 4,
 "nbformat_minor": 2
}
