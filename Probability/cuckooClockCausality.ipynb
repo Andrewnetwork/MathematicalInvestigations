{
 "cells": [
  {
   "cell_type": "markdown",
   "metadata": {},
   "source": [
    "# Cuckoo Clock Causality\n",
    "### Andrew Ribeiro \n",
    "### June 2019\n",
    "<div>\n",
    "    <div style=\"float:left; margin-right: 10px; text-align:center;\"><img src=\"img/clock.jpg\" width=\"200\" height=\"200\"/><br/><h3>Cuckoo Clock</h3></div>\n",
    "    <div style=\"text-align:center; float:left; margin-right:20px;\"><img src=\"img/button.jpg\" width=\"200\" height=\"200\"/><br/><h3>Button</h3></div>\n",
    "    <div><h1 style=\"text-decoration: underline\">Question</h1><h1>Does pressing the button cause the cuckoo bird to come out of the clock?</h1></div>\n",
    "</div>\n",
    "<div style=\"clear:left\"></div>\n",
    "\n",
    "# Introduction\n",
    "We are given a remote control button and a cuckoo clock. We do not know how either the button or the clock works, they are black boxes which only allow us to press the buton and observe the cuckoo clock. Can we devise a method of experementation which allows us to determine if pressing the button _causes_ the cuckoo bird to come out of the clock and coo? \n",
    "\n",
    "# Representation \n",
    "We will be using a boolean array to represent the state of the button and cuckoo clock. Consider the following array: \n",
    "\n",
    "\n",
    "| T<sub>1</sub> |  T<sub>2</sub> | T<sub>3</sub> | T<sub>4</sub> |\n",
    "|------|------|------|------|\n",
    "|  True | True| False | False|\n",
    "\n",
    "\n",
    "\n",
    "If we are given that this represents the state of the button, then this corresponds to four units of time where the button is presed for the first two units and not pressed for the two remaining units. Likewise, if we are given that this represents the state of the clock, then this corresponds to the cuckoo bird being out for the first two units of time and inside the clock for the two remaining units. Every trial will consist of two boolean arrays representing the state of the clock and button. For example, consider the following trial: \n",
    "\n",
    "|   Signal    | T<sub>1</sub> |  T<sub>2</sub> | T<sub>3</sub> | T<sub>4</sub> |\n",
    "|------|------|------|------|------|\n",
    "|  Button    | False | True| False | False|\n",
    "|  Clock    | True | True| True | False|\n",
    "\n",
    "In this trial, the cuckoo bird comes out in the first time unit, but the button is pressed in the second time unit. Since the effect (the bird coming out) happened before what are trying to prove is the cause (the button press), we can conclude that the button did not cause the bird to come out in this trial. What about this trial: \n",
    "\n",
    "|   Signal    | T<sub>1</sub> |  T<sub>2</sub> | T<sub>3</sub> | T<sub>4</sub> |\n",
    "|------|------|------|------|------|\n",
    "|  Button    | False | True| False | False|\n",
    "|  Clock    | False| False | True | True |\n",
    "\n",
    "\n",
    "Can we say the button caused the cuckoo bird to come out in this trial? We may be tempted to say yes, but all we really know from this trial is that it's possible that the button caused the bird to come out because we have not violated a fundamental property of causality, namely that the cause must come before the effect. "
   ]
  },
  {
   "cell_type": "code",
   "execution_count": 11,
   "metadata": {},
   "outputs": [],
   "source": [
    "from cuckooClockCausality import CuckooClock,Button"
   ]
  },
  {
   "cell_type": "code",
   "execution_count": 12,
   "metadata": {},
   "outputs": [],
   "source": [
    "f1 = lambda time: time % 10 <= 3 or time <= 4 \n",
    "f2 = lambda time,button: button.clickTime(time) or button.clickTime(time-1) or button.clickTime(time-2)\n",
    "\n",
    "button = Button(f1)\n",
    "clock = CuckooClock(f2,button)"
   ]
  },
  {
   "cell_type": "code",
   "execution_count": 13,
   "metadata": {},
   "outputs": [
    {
     "data": {
      "text/plain": [
       "array([[ True,  True,  True,  True,  True,  True, False, False, False,\n",
       "         True,  True,  True,  True,  True,  True, False, False, False,\n",
       "        False,  True],\n",
       "       [ True,  True,  True,  True, False, False, False, False, False,\n",
       "         True,  True,  True,  True, False, False, False, False, False,\n",
       "        False,  True]])"
      ]
     },
     "execution_count": 13,
     "metadata": {},
     "output_type": "execute_result"
    }
   ],
   "source": [
    "clock.sample(20)"
   ]
  },
  {
   "cell_type": "code",
   "execution_count": null,
   "metadata": {},
   "outputs": [],
   "source": []
  }
 ],
 "metadata": {
  "kernelspec": {
   "display_name": "Python 3",
   "language": "python",
   "name": "python3"
  },
  "language_info": {
   "codemirror_mode": {
    "name": "ipython",
    "version": 3
   },
   "file_extension": ".py",
   "mimetype": "text/x-python",
   "name": "python",
   "nbconvert_exporter": "python",
   "pygments_lexer": "ipython3",
   "version": "3.6.4"
  }
 },
 "nbformat": 4,
 "nbformat_minor": 2
}
